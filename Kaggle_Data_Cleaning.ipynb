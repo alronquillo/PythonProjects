{
  "nbformat": 4,
  "nbformat_minor": 0,
  "metadata": {
    "colab": {
      "name": "Kaggle_Data-Cleaning.ipynb",
      "provenance": [],
      "authorship_tag": "ABX9TyM88xXEbXDTENLJN12GJLGa",
      "include_colab_link": true
    },
    "kernelspec": {
      "name": "python3",
      "display_name": "Python 3"
    }
  },
  "cells": [
    {
      "cell_type": "markdown",
      "metadata": {
        "id": "view-in-github",
        "colab_type": "text"
      },
      "source": [
        "<a href=\"https://colab.research.google.com/github/angeleneronqs/PythonProjects/blob/main/Kaggle_Data_Cleaning.ipynb\" target=\"_parent\"><img src=\"https://colab.research.google.com/assets/colab-badge.svg\" alt=\"Open In Colab\"/></a>"
      ]
    },
    {
      "cell_type": "markdown",
      "metadata": {
        "id": "uaWxhAX6QagM"
      },
      "source": [
        "# **Scaling and Normalization**"
      ]
    },
    {
      "cell_type": "markdown",
      "metadata": {
        "id": "SMWAiQKTQfHq"
      },
      "source": [
        "**Scaling vs. Normalization**\n",
        "* In **scaling**, you are changing the *range* of your data.\n",
        "* In **normalization**, you are changing the *shape* of the distribution of your data."
      ]
    },
    {
      "cell_type": "markdown",
      "metadata": {
        "id": "Jyyx4sHnQzih"
      },
      "source": [
        "# **Scaling**\n",
        "\n",
        "Scaling just changes the **scale of your data.**\n",
        "\n",
        "This means transforming your data so it fits within a specific scale like, 0-100, or 0-1.\n",
        "\n",
        "You want to scale data when you're using methods based on measures of how far apart data points are, like support vector machines (SVM) or k-nearest neighbors (KNN)\n",
        "\n",
        "**Example:**\n",
        "\n",
        "Scaling the difference between 1 dollar and 1 Philippine peso. With currency, you can convert between currencies.\n",
        "\n",
        "For height and weight, how many pounds should equal one inch or how many kilos should equal one meter."
      ]
    },
    {
      "cell_type": "code",
      "metadata": {
        "id": "9dCGqCPnTITh",
        "outputId": "c17d4ed7-025a-4017-ad55-76e8f47da2e8",
        "colab": {
          "base_uri": "https://localhost:8080/",
          "height": 71
        }
      },
      "source": [
        "# Import libraries\n",
        "import pandas as pd\n",
        "import numpy as np\n",
        "\n",
        "# For Box-Cox Transformation\n",
        "from scipy import stats\n",
        "\n",
        "# For min_max scaling\n",
        "from mlxtend.preprocessing import minmax_scaling\n",
        "\n",
        "# Plotting modules\n",
        "import seaborn as sns\n",
        "import matplotlib.pyplot as plt\n",
        "\n",
        "# Set seed for reproducibility\n",
        "np.random.seed(0)"
      ],
      "execution_count": null,
      "outputs": [
        {
          "output_type": "stream",
          "text": [
            "/usr/local/lib/python3.6/dist-packages/statsmodels/tools/_testing.py:19: FutureWarning: pandas.util.testing is deprecated. Use the functions in the public API at pandas.testing instead.\n",
            "  import pandas.util.testing as tm\n"
          ],
          "name": "stderr"
        }
      ]
    },
    {
      "cell_type": "code",
      "metadata": {
        "id": "m2cIZJ8uQTEB",
        "outputId": "fccda456-04ff-4f39-985e-6a9282561e67",
        "colab": {
          "base_uri": "https://localhost:8080/",
          "height": 298
        }
      },
      "source": [
        "# Generate 1000 data points randomly drwan from an exponential distribution\n",
        "original_data = np.random.exponential(size = 1000)\n",
        "\n",
        "# Mix-max scale the data between 0 and 1\n",
        "scaled_data = minmax_scaling(original_data, columns=[0])\n",
        "\n",
        "# Plot both together to compare\n",
        "fig, ax = plt.subplots(1,2)\n",
        "sns.distplot(original_data, ax=ax[0])\n",
        "ax[0].set_title(\"Original Data\")\n",
        "\n",
        "sns.distplot(scaled_data, ax = ax[1])\n",
        "ax[1].set_title(\"Scaled Data\")"
      ],
      "execution_count": null,
      "outputs": [
        {
          "output_type": "execute_result",
          "data": {
            "text/plain": [
              "Text(0.5, 1.0, 'Scaled Data')"
            ]
          },
          "metadata": {
            "tags": []
          },
          "execution_count": 5
        },
        {
          "output_type": "display_data",
          "data": {
            "image/png": "[encoded data removed]",
            "text/plain": [
              "<Figure size 432x288 with 2 Axes>"
            ]
          },
          "metadata": {
            "tags": [],
            "needs_background": "light"
          }
        }
      ]
    },
    {
      "cell_type": "markdown",
      "metadata": {
        "id": "iD-6LBT-QZkC"
      },
      "source": [
        "Notice that the *shape* doesn't change, but the initial range from 0 to 8-ish, now ranges from 0 to 1."
      ]
    },
    {
      "cell_type": "markdown",
      "metadata": {
        "id": "9G4iu26MWGuj"
      },
      "source": [
        "# **Normalization**\n",
        "\n",
        "Normalization is a more radical transformation. The point of normalization is to change your observations so that they can be described as a normal distribution.\n",
        "\n",
        "\n",
        "> **Normal distribution:** Also known as the \"bell surve\", this is a specific statistical distribtuion where a roughly equal observations fall above and below the mean.\n",
        "The mean and median are the same and there are more observations close to the mean. The normal distribution is also known as the Gaussian distribution.\n",
        "\n",
        "Generally, you will normalize your data if you are going to use a machine learning or statistic technique that assumes your data is normally distributed.\n",
        "\n",
        "Example: Linear Discriminant Analysis (LDA) and Gaussian Naive Bayes\n",
        "\n",
        "\n",
        "**Box-Cox Transformation**\n",
        "method use to normalize here:\n"
      ]
    },
    {
      "cell_type": "code",
      "metadata": {
        "id": "gR8xtPEEaVk6",
        "outputId": "2775c69f-08c5-471a-ee04-2082b08c5b0b",
        "colab": {
          "base_uri": "https://localhost:8080/",
          "height": 298
        }
      },
      "source": [
        "# Normalize the exponential data with boxcox\n",
        "normalized_data = stats.boxcox(original_data)\n",
        "\n",
        "# Plot both together to compare\n",
        "fig, ax = plt.subplots(1,2)\n",
        "sns.distplot(original_data, ax=ax[0])\n",
        "ax[0].set_title(\"Original Data\")\n",
        "\n",
        "sns.distplot(normalized_data[0], ax=ax[1])\n",
        "ax[1].set_title(\"Normalized Data\")"
      ],
      "execution_count": null,
      "outputs": [
        {
          "output_type": "execute_result",
          "data": {
            "text/plain": [
              "Text(0.5, 1.0, 'Normalized Data')"
            ]
          },
          "metadata": {
            "tags": []
          },
          "execution_count": 9
        },
        {
          "output_type": "display_data",
          "data": {
            "image/png": "[encoded data removed]",
            "text/plain": [
              "<Figure size 432x288 with 2 Axes>"
            ]
          },
          "metadata": {
            "tags": [],
            "needs_background": "light"
          }
        }
      ]
    },
    {
      "cell_type": "markdown",
      "metadata": {
        "id": "kGjRtt3xbOyt"
      },
      "source": [
        "Notice that the *shape* of the data has changed. Before normalizing it was almost L-shaped. But after normalizing, it looks more like the outline of a bell. Hence, bell-shaped."
      ]
    },
    {
      "cell_type": "markdown",
      "metadata": {
        "id": "g1CERkwpcxJ0"
      },
      "source": [
        "# **Exercise**"
      ]
    },
    {
      "cell_type": "markdown",
      "metadata": {
        "id": "-mXel0wAc2If"
      },
      "source": [
        "To practice scaling and normalization, we're going to use a [dataset of Kickstarter ](https://https://www.kaggle.com/kemical/kickstarter-projects)campaigns. (Kickstarter is a website where people can ask people to invest in various projects and concept products.)"
      ]
    },
    {
      "cell_type": "markdown",
      "metadata": {
        "id": "mg9HUNvdd6sC"
      },
      "source": [
        "*Note: Load the libraries above.*"
      ]
    },
    {
      "cell_type": "code",
      "metadata": {
        "id": "iSev4Ukrcw2W"
      },
      "source": [
        "# Load and read data\n",
        "kickstarters_2017 = pd.read_csv(\"ks-projects-201801.csv\")"
      ],
      "execution_count": null,
      "outputs": []
    },
    {
      "cell_type": "code",
      "metadata": {
        "id": "Te5TbTK4fxrB",
        "outputId": "977a0fcc-d4ef-4d07-9cf6-44188d007cde",
        "colab": {
          "base_uri": "https://localhost:8080/",
          "height": 479
        }
      },
      "source": [
        "kickstarters_2017.head()"
      ],
      "execution_count": null,
      "outputs": [
        {
          "output_type": "execute_result",
          "data": {
            "text/html": [
              "<div>\n",
              "<style scoped>\n",
              "    .dataframe tbody tr th:only-of-type {\n",
              "        vertical-align: middle;\n",
              "    }\n",
              "\n",
              "    .dataframe tbody tr th {\n",
              "        vertical-align: top;\n",
              "    }\n",
              "\n",
              "    .dataframe thead th {\n",
              "        text-align: right;\n",
              "    }\n",
              "</style>\n",
              "<table border=\"1\" class=\"dataframe\">\n",
              "  <thead>\n",
              "    <tr style=\"text-align: right;\">\n",
              "      <th></th>\n",
              "      <th>ID</th>\n",
              "      <th>name</th>\n",
              "      <th>category</th>\n",
              "      <th>main_category</th>\n",
              "      <th>currency</th>\n",
              "      <th>deadline</th>\n",
              "      <th>goal</th>\n",
              "      <th>launched</th>\n",
              "      <th>pledged</th>\n",
              "      <th>state</th>\n",
              "      <th>backers</th>\n",
              "      <th>country</th>\n",
              "      <th>usd pledged</th>\n",
              "      <th>usd_pledged_real</th>\n",
              "      <th>usd_goal_real</th>\n",
              "    </tr>\n",
              "  </thead>\n",
              "  <tbody>\n",
              "    <tr>\n",
              "      <th>0</th>\n",
              "      <td>1000002330</td>\n",
              "      <td>The Songs of Adelaide &amp; Abullah</td>\n",
              "      <td>Poetry</td>\n",
              "      <td>Publishing</td>\n",
              "      <td>GBP</td>\n",
              "      <td>2015-10-09</td>\n",
              "      <td>1000.0</td>\n",
              "      <td>2015-08-11 12:12:28</td>\n",
              "      <td>0.0</td>\n",
              "      <td>failed</td>\n",
              "      <td>0</td>\n",
              "      <td>GB</td>\n",
              "      <td>0.0</td>\n",
              "      <td>0.0</td>\n",
              "      <td>1533.95</td>\n",
              "    </tr>\n",
              "    <tr>\n",
              "      <th>1</th>\n",
              "      <td>1000003930</td>\n",
              "      <td>Greeting From Earth: ZGAC Arts Capsule For ET</td>\n",
              "      <td>Narrative Film</td>\n",
              "      <td>Film &amp; Video</td>\n",
              "      <td>USD</td>\n",
              "      <td>2017-11-01</td>\n",
              "      <td>30000.0</td>\n",
              "      <td>2017-09-02 04:43:57</td>\n",
              "      <td>2421.0</td>\n",
              "      <td>failed</td>\n",
              "      <td>15</td>\n",
              "      <td>US</td>\n",
              "      <td>100.0</td>\n",
              "      <td>2421.0</td>\n",
              "      <td>30000.00</td>\n",
              "    </tr>\n",
              "    <tr>\n",
              "      <th>2</th>\n",
              "      <td>1000004038</td>\n",
              "      <td>Where is Hank?</td>\n",
              "      <td>Narrative Film</td>\n",
              "      <td>Film &amp; Video</td>\n",
              "      <td>USD</td>\n",
              "      <td>2013-02-26</td>\n",
              "      <td>45000.0</td>\n",
              "      <td>2013-01-12 00:20:50</td>\n",
              "      <td>220.0</td>\n",
              "      <td>failed</td>\n",
              "      <td>3</td>\n",
              "      <td>US</td>\n",
              "      <td>220.0</td>\n",
              "      <td>220.0</td>\n",
              "      <td>45000.00</td>\n",
              "    </tr>\n",
              "    <tr>\n",
              "      <th>3</th>\n",
              "      <td>1000007540</td>\n",
              "      <td>ToshiCapital Rekordz Needs Help to Complete Album</td>\n",
              "      <td>Music</td>\n",
              "      <td>Music</td>\n",
              "      <td>USD</td>\n",
              "      <td>2012-04-16</td>\n",
              "      <td>5000.0</td>\n",
              "      <td>2012-03-17 03:24:11</td>\n",
              "      <td>1.0</td>\n",
              "      <td>failed</td>\n",
              "      <td>1</td>\n",
              "      <td>US</td>\n",
              "      <td>1.0</td>\n",
              "      <td>1.0</td>\n",
              "      <td>5000.00</td>\n",
              "    </tr>\n",
              "    <tr>\n",
              "      <th>4</th>\n",
              "      <td>1000011046</td>\n",
              "      <td>Community Film Project: The Art of Neighborhoo...</td>\n",
              "      <td>Film &amp; Video</td>\n",
              "      <td>Film &amp; Video</td>\n",
              "      <td>USD</td>\n",
              "      <td>2015-08-29</td>\n",
              "      <td>19500.0</td>\n",
              "      <td>2015-07-04 08:35:03</td>\n",
              "      <td>1283.0</td>\n",
              "      <td>canceled</td>\n",
              "      <td>14</td>\n",
              "      <td>US</td>\n",
              "      <td>1283.0</td>\n",
              "      <td>1283.0</td>\n",
              "      <td>19500.00</td>\n",
              "    </tr>\n",
              "  </tbody>\n",
              "</table>\n",
              "</div>"
            ],
            "text/plain": [
              "           ID  ... usd_goal_real\n",
              "0  1000002330  ...       1533.95\n",
              "1  1000003930  ...      30000.00\n",
              "2  1000004038  ...      45000.00\n",
              "3  1000007540  ...       5000.00\n",
              "4  1000011046  ...      19500.00\n",
              "\n",
              "[5 rows x 15 columns]"
            ]
          },
          "metadata": {
            "tags": []
          },
          "execution_count": 11
        }
      ]
    },
    {
      "cell_type": "markdown",
      "metadata": {
        "id": "IizwkHnqfbij"
      },
      "source": [
        "Start by scaling the goals of each campain, which is how much money they were asking for. The plots show a histogram of the values on the \"usd_goal_real\" column, both before and after scaling."
      ]
    },
    {
      "cell_type": "markdown",
      "metadata": {
        "id": "3-AAUM08kYPH"
      },
      "source": [
        "## Scaling the **usd_goal_real** column"
      ]
    },
    {
      "cell_type": "code",
      "metadata": {
        "id": "NhyAc6HYfrAS",
        "outputId": "f1faa823-a1f6-4b01-e718-535cb6767451",
        "colab": {
          "base_uri": "https://localhost:8080/",
          "height": 210
        }
      },
      "source": [
        "# Select the usd_goal_real column\n",
        "original_data = pd.DataFrame(kickstarters_2017.usd_goal_real)\n",
        "\n",
        "# Scale the goals from 0 to 1\n",
        "scaled_data = minmax_scaling(original_data, columns = ['usd_goal_real'])\n",
        "\n",
        "# Plot the original & scaled data together to compare\n",
        "fig, ax = plt.subplots(1,2, figsize = (15,3))\n",
        "sns.distplot(original_data, ax=ax[0])\n",
        "ax[0].set_title(\"Original Data\")\n",
        "\n",
        "sns.distplot(scaled_data, ax=ax[1])\n",
        "ax[1].set_title(\"Scaled Data\")"
      ],
      "execution_count": null,
      "outputs": [
        {
          "output_type": "execute_result",
          "data": {
            "text/plain": [
              "Text(0.5, 1.0, 'Scaled Data')"
            ]
          },
          "metadata": {
            "tags": []
          },
          "execution_count": 28
        },
        {
          "output_type": "display_data",
          "data": {
            "image/png": "[encoded data removed]",
            "text/plain": [
              "<Figure size 1080x216 with 2 Axes>"
            ]
          },
          "metadata": {
            "tags": [],
            "needs_background": "light"
          }
        }
      ]
    },
    {
      "cell_type": "markdown",
      "metadata": {
        "id": "uouTVz7LhhuH"
      },
      "source": [
        "After scaling, all values lie between 0 and 1.\n",
        "\n",
        "Verify in the code below:"
      ]
    },
    {
      "cell_type": "code",
      "metadata": {
        "id": "cpP0AP61hqcw",
        "outputId": "2c46720a-de2b-4f5f-f199-4b947fd280d5",
        "colab": {
          "base_uri": "https://localhost:8080/",
          "height": 357
        }
      },
      "source": [
        "# Original Data\n",
        "print('Original Data\\nPreview:\\n' , original_data.head())\n",
        "print('Minimum value: ', float(original_data.min()),\n",
        "      '\\nMaximum value: ', float(original_data.max()))\n",
        "print('_'*30)\n",
        "\n",
        "# Scaled Data\n",
        "print('Scaled Data\\nPreview:\\n', scaled_data.head())\n",
        "print('Minimum Value:', float(scaled_data.min()),\n",
        "      'Maximum Value:', float(scaled_data.max()))"
      ],
      "execution_count": null,
      "outputs": [
        {
          "output_type": "stream",
          "text": [
            "Original Data\n",
            "Preview:\n",
            "    usd_goal_real\n",
            "0        1533.95\n",
            "1       30000.00\n",
            "2       45000.00\n",
            "3        5000.00\n",
            "4       19500.00\n",
            "Minimum value:  0.01 \n",
            "Maximum value:  166361390.71\n",
            "______________________________\n",
            "Scaled Data\n",
            "Preview:\n",
            "    usd_goal_real\n",
            "0       0.000009\n",
            "1       0.000180\n",
            "2       0.000270\n",
            "3       0.000030\n",
            "4       0.000117\n",
            "Minimum Value: 0.0 Maximum Value: 1.0\n"
          ],
          "name": "stdout"
        }
      ]
    },
    {
      "cell_type": "markdown",
      "metadata": {
        "id": "dY9FfO9ok7kY"
      },
      "source": [
        "## Scaling the **goal** column"
      ]
    },
    {
      "cell_type": "code",
      "metadata": {
        "id": "p2USdqDIk06_"
      },
      "source": [
        "# Select the goal column\n",
        "original_goal_data  = pd.DataFrame(kickstarters_2017.goal)"
      ],
      "execution_count": null,
      "outputs": []
    },
    {
      "cell_type": "markdown",
      "metadata": {
        "id": "NsqAM0KolODq"
      },
      "source": [
        "Use *original_goal_data* to create a new DataFrame s*caled_goal_data* with values scaled between 0 and 1. \n",
        "\n",
        "You must use *the minimax_scaling()* function."
      ]
    },
    {
      "cell_type": "code",
      "metadata": {
        "id": "S4nZkzHelSA3"
      },
      "source": [
        "# Create a scaled goal data\n",
        "scaled_goal_data = minmax_scaling(original_goal_data, columns = ['goal'] )"
      ],
      "execution_count": null,
      "outputs": []
    },
    {
      "cell_type": "markdown",
      "metadata": {
        "id": "BalM2g04mqPr"
      },
      "source": [
        "## Normalizing the **usd_pledged_real** column"
      ]
    },
    {
      "cell_type": "code",
      "metadata": {
        "id": "EaT_uXiNm68r",
        "outputId": "58b035dc-21ed-4865-bbec-0a4764f7159f",
        "colab": {
          "base_uri": "https://localhost:8080/",
          "height": 212
        }
      },
      "source": [
        "# Get the index of all positive pledges (BoxCox only takes positive values)\n",
        "index_of_positive_pledges = kickstarters_2017.usd_pledged_real > 0\n",
        "\n",
        "# Get only positive pledges (using their indexes)\n",
        "positive_pledges = kickstarters_2017.usd_pledged_real.loc[index_of_positive_pledges] \n",
        "\n",
        "# Normalize the pledges (with Box-Cox)\n",
        "normalized_pledges = pd.Series(stats.boxcox(positive_pledges)[0], name = 'usd_pledged_real', index = positive_pledges.index)\n",
        "\n",
        "# plot both together to compare\n",
        "fig, ax = plt.subplots(1, 2, figsize=(15,3))\n",
        "sns.distplot(positive_pledges, ax=ax[0])\n",
        "ax[0].set_title(\"Original Data\")\n",
        "\n",
        "sns.distplot(normalized_pledges, ax = ax[1])\n",
        "ax[1].set_title(\"Normalized Data\")"
      ],
      "execution_count": null,
      "outputs": [
        {
          "output_type": "execute_result",
          "data": {
            "text/plain": [
              "Text(0.5, 1.0, 'Normalized Data')"
            ]
          },
          "metadata": {
            "tags": []
          },
          "execution_count": 34
        },
        {
          "output_type": "display_data",
          "data": {
            "image/png": "[encoded data removed]",
            "text/plain": [
              "<Figure size 1080x216 with 2 Axes>"
            ]
          },
          "metadata": {
            "tags": [],
            "needs_background": "light"
          }
        }
      ]
    },
    {
      "cell_type": "markdown",
      "metadata": {
        "id": "0wPi1XSRpUzN"
      },
      "source": [
        "Verify in the code below:"
      ]
    },
    {
      "cell_type": "code",
      "metadata": {
        "id": "VilW2yT5pf2M",
        "outputId": "750d3472-fa5a-4cef-ae36-1170756ca189",
        "colab": {
          "base_uri": "https://localhost:8080/",
          "height": 374
        }
      },
      "source": [
        "# Original Data\n",
        "print('Original Data\\nPreview:\\n', positive_pledges.head())\n",
        "print('Minimum Value: ', float(positive_pledges.min()),\n",
        "      '\\nMaximum Value: ', float(positive_pledges.max()))\n",
        "print('_' * 30)\n",
        "\n",
        "# Normalized Data\n",
        "print('Normalized Data\\nPreview:\\n', normalized_pledges.head())\n",
        "print('Minimum Value:', float(normalized_pledges.min()),\n",
        "      '\\nMaximum Value:', float(normalized_pledges.max()))"
      ],
      "execution_count": null,
      "outputs": [
        {
          "output_type": "stream",
          "text": [
            "Original Data\n",
            "Preview:\n",
            " 1     2421.0\n",
            "2      220.0\n",
            "3        1.0\n",
            "4     1283.0\n",
            "5    52375.0\n",
            "Name: usd_pledged_real, dtype: float64\n",
            "Minimum Value:  0.45 \n",
            "Maximum Value:  20338986.27\n",
            "______________________________\n",
            "Normalized Data\n",
            "Preview:\n",
            " 1    10.165142\n",
            "2     6.468598\n",
            "3     0.000000\n",
            "4     9.129277\n",
            "5    15.836853\n",
            "Name: usd_pledged_real, dtype: float64\n",
            "Minimum Value: -0.7779954122762203 \n",
            "Maximum Value: 30.69054020451361\n"
          ],
          "name": "stdout"
        }
      ]
    },
    {
      "cell_type": "markdown",
      "metadata": {
        "id": "MwMgmSdtqV1K"
      },
      "source": [
        "## Normalizing the **pledged** column"
      ]
    },
    {
      "cell_type": "code",
      "metadata": {
        "id": "TluYyg7qqVAh",
        "outputId": "1f842fa4-6b8f-4301-f324-9bcb34d331ff",
        "colab": {
          "base_uri": "https://localhost:8080/",
          "height": 211
        }
      },
      "source": [
        "# Get the index of positive values in the 'pledged' column\n",
        "index_of_positive_pledged = kickstarters_2017.pledged > 0\n",
        "\n",
        "# Get the positive values in the 'pledged' column\n",
        "original_positive_pledged = kickstarters_2017.pledged.loc[index_of_positive_pledged]\n",
        "\n",
        "# Normalizing data\n",
        "normalized_positive_pledged = pd.Series(stats.boxcox(original_positive_pledged)[0], name = 'pledged', index = original_positive_pledged.index)\n",
        "\n",
        "# plot both together to compare\n",
        "fig, ax = plt.subplots(1, 2, figsize=(15,3))\n",
        "sns.distplot(original_positive_pledged, ax=ax[0])\n",
        "ax[0].set_title(\"Original Data\")\n",
        "\n",
        "sns.distplot(normalized_positive_pledged, ax = ax[1])\n",
        "ax[1].set_title(\"Normalized Data\")\n"
      ],
      "execution_count": null,
      "outputs": [
        {
          "output_type": "execute_result",
          "data": {
            "text/plain": [
              "Text(0.5, 1.0, 'Normalized Data')"
            ]
          },
          "metadata": {
            "tags": []
          },
          "execution_count": 52
        },
        {
          "output_type": "display_data",
          "data": {
            "image/png": "[encoded data removed]",
            "text/plain": [
              "<Figure size 1080x216 with 2 Axes>"
            ]
          },
          "metadata": {
            "tags": [],
            "needs_background": "light"
          }
        }
      ]
    },
    {
      "cell_type": "markdown",
      "metadata": {
        "id": "UQuo-kmOs3rD"
      },
      "source": [
        "The distributions in the normalized data of \"usd_pledged_real\" column and \"pledged\" column look mostly the same."
      ]
    },
    {
      "cell_type": "markdown",
      "metadata": {
        "id": "CrlVR7HmtHg8"
      },
      "source": [
        "(Optional) More practice\n",
        "Try finding a new dataset and pretend you're preparing to perform a [regression analysis](https://www.kaggle.com/rtatman/the-5-day-regression-challenge).\n",
        "\n",
        "[These datasets are a good start!](https://www.kaggle.com/rtatman/datasets-for-regression-analysis)\n",
        "\n",
        "Pick three or four variables and decide if you need to normalize or scale any of them and, if you think you should, practice applying the correct technique.\n",
        "\n",
        "Keep going\n",
        "In the next lesson, learn how to parse dates in a dataset."
      ]
    },
    {
      "cell_type": "markdown",
      "metadata": {
        "id": "51AnASKDufDV"
      },
      "source": [
        "# **Parsing Dates**"
      ]
    },
    {
      "cell_type": "markdown",
      "metadata": {
        "id": "DGwqxRP7vIVE"
      },
      "source": [
        "We'll be working with a dataset that contains information on landslides that occured between 2007 and 2016.\n",
        "\n",
        "DataSet: [Landslide After Rainfall, 2007-2016](https://www.kaggle.com/nasa/landslide-events)"
      ]
    },
    {
      "cell_type": "code",
      "metadata": {
        "id": "LJUcub2uu_KT"
      },
      "source": [
        "# Libraries to use\n",
        "import pandas as pd\n",
        "import numpy as np\n",
        "import seaborn as sns\n",
        "import datetime\n",
        "\n",
        "# Set seed for reproducibility\n",
        "np.random.seed(0)"
      ],
      "execution_count": null,
      "outputs": []
    },
    {
      "cell_type": "code",
      "metadata": {
        "id": "x0rzgOIwvE-D"
      },
      "source": [
        "# Read in our data\n",
        "landslides = pd.read_csv(\"landslides_catalog.csv\")"
      ],
      "execution_count": null,
      "outputs": []
    },
    {
      "cell_type": "code",
      "metadata": {
        "id": "8Sqq47AjwmxG",
        "outputId": "8b83bbfd-03ba-4397-e84a-c0305d9a2e37",
        "colab": {
          "base_uri": "https://localhost:8080/",
          "height": 343
        }
      },
      "source": [
        "# Check the data type of our date column\n",
        "landslides.head()"
      ],
      "execution_count": null,
      "outputs": [
        {
          "output_type": "execute_result",
          "data": {
            "text/html": [
              "<div>\n",
              "<style scoped>\n",
              "    .dataframe tbody tr th:only-of-type {\n",
              "        vertical-align: middle;\n",
              "    }\n",
              "\n",
              "    .dataframe tbody tr th {\n",
              "        vertical-align: top;\n",
              "    }\n",
              "\n",
              "    .dataframe thead th {\n",
              "        text-align: right;\n",
              "    }\n",
              "</style>\n",
              "<table border=\"1\" class=\"dataframe\">\n",
              "  <thead>\n",
              "    <tr style=\"text-align: right;\">\n",
              "      <th></th>\n",
              "      <th>id</th>\n",
              "      <th>date</th>\n",
              "      <th>time</th>\n",
              "      <th>continent_code</th>\n",
              "      <th>country_name</th>\n",
              "      <th>country_code</th>\n",
              "      <th>state/province</th>\n",
              "      <th>population</th>\n",
              "      <th>city/town</th>\n",
              "      <th>distance</th>\n",
              "      <th>location_description</th>\n",
              "      <th>latitude</th>\n",
              "      <th>longitude</th>\n",
              "      <th>geolocation</th>\n",
              "      <th>hazard_type</th>\n",
              "      <th>landslide_type</th>\n",
              "      <th>landslide_size</th>\n",
              "      <th>trigger</th>\n",
              "      <th>storm_name</th>\n",
              "      <th>injuries</th>\n",
              "      <th>fatalities</th>\n",
              "      <th>source_name</th>\n",
              "      <th>source_link</th>\n",
              "    </tr>\n",
              "  </thead>\n",
              "  <tbody>\n",
              "    <tr>\n",
              "      <th>0</th>\n",
              "      <td>34</td>\n",
              "      <td>3/2/07</td>\n",
              "      <td>Night</td>\n",
              "      <td>NaN</td>\n",
              "      <td>United States</td>\n",
              "      <td>US</td>\n",
              "      <td>Virginia</td>\n",
              "      <td>16000</td>\n",
              "      <td>Cherry Hill</td>\n",
              "      <td>3.40765</td>\n",
              "      <td>Unknown</td>\n",
              "      <td>38.6009</td>\n",
              "      <td>-77.2682</td>\n",
              "      <td>(38.600900000000003, -77.268199999999993)</td>\n",
              "      <td>Landslide</td>\n",
              "      <td>Landslide</td>\n",
              "      <td>Small</td>\n",
              "      <td>Rain</td>\n",
              "      <td>NaN</td>\n",
              "      <td>NaN</td>\n",
              "      <td>NaN</td>\n",
              "      <td>NBC 4 news</td>\n",
              "      <td>http://www.nbc4.com/news/11186871/detail.html</td>\n",
              "    </tr>\n",
              "    <tr>\n",
              "      <th>1</th>\n",
              "      <td>42</td>\n",
              "      <td>3/22/07</td>\n",
              "      <td>NaN</td>\n",
              "      <td>NaN</td>\n",
              "      <td>United States</td>\n",
              "      <td>US</td>\n",
              "      <td>Ohio</td>\n",
              "      <td>17288</td>\n",
              "      <td>New Philadelphia</td>\n",
              "      <td>3.33522</td>\n",
              "      <td>NaN</td>\n",
              "      <td>40.5175</td>\n",
              "      <td>-81.4305</td>\n",
              "      <td>(40.517499999999998, -81.430499999999995)</td>\n",
              "      <td>Landslide</td>\n",
              "      <td>Landslide</td>\n",
              "      <td>Small</td>\n",
              "      <td>Rain</td>\n",
              "      <td>NaN</td>\n",
              "      <td>NaN</td>\n",
              "      <td>NaN</td>\n",
              "      <td>Canton Rep.com</td>\n",
              "      <td>http://www.cantonrep.com/index.php?ID=345054&amp;C...</td>\n",
              "    </tr>\n",
              "    <tr>\n",
              "      <th>2</th>\n",
              "      <td>56</td>\n",
              "      <td>4/6/07</td>\n",
              "      <td>NaN</td>\n",
              "      <td>NaN</td>\n",
              "      <td>United States</td>\n",
              "      <td>US</td>\n",
              "      <td>Pennsylvania</td>\n",
              "      <td>15930</td>\n",
              "      <td>Wilkinsburg</td>\n",
              "      <td>2.91977</td>\n",
              "      <td>Urban area</td>\n",
              "      <td>40.4377</td>\n",
              "      <td>-79.9160</td>\n",
              "      <td>(40.4377, -79.915999999999997)</td>\n",
              "      <td>Landslide</td>\n",
              "      <td>Landslide</td>\n",
              "      <td>Small</td>\n",
              "      <td>Rain</td>\n",
              "      <td>NaN</td>\n",
              "      <td>NaN</td>\n",
              "      <td>NaN</td>\n",
              "      <td>The Pittsburgh Channel.com</td>\n",
              "      <td>https://web.archive.org/web/20080423132842/htt...</td>\n",
              "    </tr>\n",
              "    <tr>\n",
              "      <th>3</th>\n",
              "      <td>59</td>\n",
              "      <td>4/14/07</td>\n",
              "      <td>NaN</td>\n",
              "      <td>NaN</td>\n",
              "      <td>Canada</td>\n",
              "      <td>CA</td>\n",
              "      <td>Quebec</td>\n",
              "      <td>42786</td>\n",
              "      <td>Châteauguay</td>\n",
              "      <td>2.98682</td>\n",
              "      <td>Above river</td>\n",
              "      <td>45.3226</td>\n",
              "      <td>-73.7771</td>\n",
              "      <td>(45.322600000000001, -73.777100000000004)</td>\n",
              "      <td>Landslide</td>\n",
              "      <td>Riverbank collapse</td>\n",
              "      <td>Small</td>\n",
              "      <td>Rain</td>\n",
              "      <td>NaN</td>\n",
              "      <td>NaN</td>\n",
              "      <td>NaN</td>\n",
              "      <td>Le Soleil</td>\n",
              "      <td>http://www.hebdos.net/lsc/edition162007/articl...</td>\n",
              "    </tr>\n",
              "    <tr>\n",
              "      <th>4</th>\n",
              "      <td>61</td>\n",
              "      <td>4/15/07</td>\n",
              "      <td>NaN</td>\n",
              "      <td>NaN</td>\n",
              "      <td>United States</td>\n",
              "      <td>US</td>\n",
              "      <td>Kentucky</td>\n",
              "      <td>6903</td>\n",
              "      <td>Pikeville</td>\n",
              "      <td>5.66542</td>\n",
              "      <td>Below road</td>\n",
              "      <td>37.4325</td>\n",
              "      <td>-82.4931</td>\n",
              "      <td>(37.432499999999997, -82.493099999999998)</td>\n",
              "      <td>Landslide</td>\n",
              "      <td>Landslide</td>\n",
              "      <td>Small</td>\n",
              "      <td>Downpour</td>\n",
              "      <td>NaN</td>\n",
              "      <td>NaN</td>\n",
              "      <td>0.0</td>\n",
              "      <td>Matthew Crawford (KGS)</td>\n",
              "      <td>NaN</td>\n",
              "    </tr>\n",
              "  </tbody>\n",
              "</table>\n",
              "</div>"
            ],
            "text/plain": [
              "   id  ...                                        source_link\n",
              "0  34  ...      http://www.nbc4.com/news/11186871/detail.html\n",
              "1  42  ...  http://www.cantonrep.com/index.php?ID=345054&C...\n",
              "2  56  ...  https://web.archive.org/web/20080423132842/htt...\n",
              "3  59  ...  http://www.hebdos.net/lsc/edition162007/articl...\n",
              "4  61  ...                                                NaN\n",
              "\n",
              "[5 rows x 23 columns]"
            ]
          },
          "metadata": {
            "tags": []
          },
          "execution_count": 57
        }
      ]
    },
    {
      "cell_type": "code",
      "metadata": {
        "id": "SW8qWS0DwwN_",
        "outputId": "25bfe422-8114-46cf-f278-5ea7b76b583a",
        "colab": {
          "base_uri": "https://localhost:8080/",
          "height": 119
        }
      },
      "source": [
        "# Print the first few rows of the data column\n",
        "print(landslides['date'].head())"
      ],
      "execution_count": null,
      "outputs": [
        {
          "output_type": "stream",
          "text": [
            "0     3/2/07\n",
            "1    3/22/07\n",
            "2     4/6/07\n",
            "3    4/14/07\n",
            "4    4/15/07\n",
            "Name: date, dtype: object\n"
          ],
          "name": "stdout"
        }
      ]
    },
    {
      "cell_type": "markdown",
      "metadata": {
        "id": "LsHq1XAZzAI4"
      },
      "source": [
        "Date Format: month / day / two-digit year\n",
        "\n",
        "format=\"%m/%d%y\""
      ]
    },
    {
      "cell_type": "markdown",
      "metadata": {
        "id": "SL2H4V58w59_"
      },
      "source": [
        "Notice at the bottom of the output, the data type of the column is \"object\"\n",
        "\n",
        "> Pandas uses the \"object\" dtype for storing various types of data types, but most often when you see a column with the dtype \"object\" it will have strings in it.\n",
        "\n",
        "If you check the pandas dtype documentation here, you'll notice that there's also a specific datetime64 dtypes. Because the dtype of our column is object rather than datetime64, we can tell that Python doesn't know that this column contains dates.\n",
        "\n"
      ]
    },
    {
      "cell_type": "code",
      "metadata": {
        "id": "7vCbF9W4xlNL",
        "outputId": "581d079e-927b-492d-de21-4e7bbfd025b9",
        "colab": {
          "base_uri": "https://localhost:8080/",
          "height": 34
        }
      },
      "source": [
        "# Check the data type of our data column\n",
        "landslides['date'].dtype"
      ],
      "execution_count": null,
      "outputs": [
        {
          "output_type": "execute_result",
          "data": {
            "text/plain": [
              "dtype('O')"
            ]
          },
          "metadata": {
            "tags": []
          },
          "execution_count": 61
        }
      ]
    },
    {
      "cell_type": "markdown",
      "metadata": {
        "id": "RQCZ7O9yxwk8"
      },
      "source": [
        "\"O\" is the code for \"object\""
      ]
    },
    {
      "cell_type": "markdown",
      "metadata": {
        "id": "sA1DDne6x9eR"
      },
      "source": [
        "## Convert date columns to datetime\n",
        "\n",
        "This is called \"parsing dates\" because we are taking in a string and identifying its component parts.\n",
        "\n",
        "> Guide for format of dates:  [\"strftime directive\"](https://strftime.org/)\n",
        "\n",
        "There are lots of possible parts of a date, but the most common are **%d** *for day*, **%m** *for month*, **%y** f*or a two-digit year* and **%Y** *for a four digit year*.\n",
        "\n",
        "Some examples:\n",
        "\n",
        "* 1/17/07 has the format \"%m/%d/%y\"\n",
        "* 17-1-2007 has the format \"%d-%m-%Y\""
      ]
    },
    {
      "cell_type": "code",
      "metadata": {
        "id": "l3eenhPqzJeV"
      },
      "source": [
        "# Create a new column, date_parsed, with the parsed dates\n",
        "landslides['date_parsed'] = pd.to_datetime(landslides['date'], format=\"%m/%d/%y\")\n"
      ],
      "execution_count": null,
      "outputs": []
    },
    {
      "cell_type": "code",
      "metadata": {
        "id": "Eb9gAoQIzusi",
        "outputId": "1a712c20-ed03-4c38-c0d9-309f9121c311",
        "colab": {
          "base_uri": "https://localhost:8080/",
          "height": 119
        }
      },
      "source": [
        "# print first few rows\n",
        "landslides['date_parsed'].head()"
      ],
      "execution_count": null,
      "outputs": [
        {
          "output_type": "execute_result",
          "data": {
            "text/plain": [
              "0   2007-03-02\n",
              "1   2007-03-22\n",
              "2   2007-04-06\n",
              "3   2007-04-14\n",
              "4   2007-04-15\n",
              "Name: date_parsed, dtype: datetime64[ns]"
            ]
          },
          "metadata": {
            "tags": []
          },
          "execution_count": 69
        }
      ]
    },
    {
      "cell_type": "markdown",
      "metadata": {
        "id": "r0J5ThFD0vok"
      },
      "source": [
        "**dtype** is now *datetime64* and dates have been slightly rearranged so they fit the default order datetime objects (year-month-day)"
      ]
    },
    {
      "cell_type": "markdown",
      "metadata": {
        "id": "IIzYgCDU1MEm"
      },
      "source": [
        "Now that our dates are parsed correctly, we can interact with them in useful ways.\n",
        "\n",
        "\n",
        "---\n",
        "\n",
        "\n",
        "1. **What if I run into an error with multiple date formats?** \n",
        "While we're specifying the date format here, sometimes you'll run into an error when there are multiple date formats in a single column. \n",
        "> If that happens, you have have pandas try to infer what the right date format should be. You can do that like so:\n",
        "`landslides['date_parsed'] = pd.to_datetime(landslides['Date'], infer_datetime_format=True)`\n",
        "\n",
        "2. **Why don't you always use infer_datetime_format = True?** \n",
        "There are two big reasons not to always have pandas guess the time format. \n",
        "\n",
        " **a.** The first is that pandas won't always been able to figure out the correct date format, especially if someone has gotten creative with data entry. \n",
        "\n",
        " **b.** The second is that it's much slower than specifying the exact format of the dates."
      ]
    },
    {
      "cell_type": "markdown",
      "metadata": {
        "id": "hQXHI4ng12jV"
      },
      "source": [
        "## **Select the day of the month**"
      ]
    },
    {
      "cell_type": "code",
      "metadata": {
        "id": "wxt1yvq43PnV",
        "outputId": "d10f0ae8-8e53-43e7-c630-a3e93b430475",
        "colab": {
          "base_uri": "https://localhost:8080/",
          "height": 119
        }
      },
      "source": [
        "# Get the day of the month from date_parsed column\n",
        "day_of_month_landslides = landslides['date_parsed'].dt.day\n",
        "day_of_month_landslides.head()"
      ],
      "execution_count": null,
      "outputs": [
        {
          "output_type": "execute_result",
          "data": {
            "text/plain": [
              "0     2.0\n",
              "1    22.0\n",
              "2     6.0\n",
              "3    14.0\n",
              "4    15.0\n",
              "Name: date_parsed, dtype: float64"
            ]
          },
          "metadata": {
            "tags": []
          },
          "execution_count": 71
        }
      ]
    },
    {
      "cell_type": "markdown",
      "metadata": {
        "id": "YgEHhsNd3lVc"
      },
      "source": [
        "## **Plot the day of the month to check the date parsing**"
      ]
    },
    {
      "cell_type": "markdown",
      "metadata": {
        "id": "M_MDTtOT3wQt"
      },
      "source": [
        "One of the biggest dangers in parsing dates is mixing up the months and days. The `to_datetime()` function does have very helpful error messages, but it doesn't hurt to double-check that the days of the month we've extracted make sense.\n",
        "\n",
        "To do this, let's plot a histogram of the days of the month. We expect it to have values between 1 and 31 and, since there's no reason to suppose the landslides are more common on some days of the month than others, a relatively even distribution. (With a dip on 31 because not all months have 31 days.) \n",
        "\n",
        "Let's see if that's the case:"
      ]
    },
    {
      "cell_type": "code",
      "metadata": {
        "id": "8aLi5XSi3mui",
        "outputId": "d69623e7-4571-4c02-f72a-c40e7fff1656",
        "colab": {
          "base_uri": "https://localhost:8080/",
          "height": 297
        }
      },
      "source": [
        "# Remove NA's\n",
        "day_of_month_landslides = day_of_month_landslides.dropna()\n",
        "\n",
        "# Plot the day of the month\n",
        "sns.distplot(day_of_month_landslides, kde=False, bins=31)"
      ],
      "execution_count": null,
      "outputs": [
        {
          "output_type": "execute_result",
          "data": {
            "text/plain": [
              "<matplotlib.axes._subplots.AxesSubplot at 0x7fe13edc0160>"
            ]
          },
          "metadata": {
            "tags": []
          },
          "execution_count": 72
        },
        {
          "output_type": "display_data",
          "data": {
            "image/png": "[encoded data removed]",
            "text/plain": [
              "<Figure size 432x288 with 1 Axes>"
            ]
          },
          "metadata": {
            "tags": [],
            "needs_background": "light"
          }
        }
      ]
    },
    {
      "cell_type": "markdown",
      "metadata": {
        "id": "wt1PGMVa4JYt"
      },
      "source": [
        "# **Exercise**"
      ]
    },
    {
      "cell_type": "markdown",
      "metadata": {
        "id": "uf_lhsmP4MGs"
      },
      "source": [
        "Using the dataset containing information on earthquakes between 1965 and 2016. "
      ]
    },
    {
      "cell_type": "code",
      "metadata": {
        "id": "h53IVd65CXJg"
      },
      "source": [
        "# read in our data\n",
        "earthquakes = pd.read_csv(\"earthquakes_database.csv\")"
      ],
      "execution_count": null,
      "outputs": []
    },
    {
      "cell_type": "markdown",
      "metadata": {
        "id": "HqwJ6ZHkCoXF"
      },
      "source": [
        "**1) Check the data type of our date column**"
      ]
    },
    {
      "cell_type": "code",
      "metadata": {
        "id": "45Y9NNZnCg6f",
        "outputId": "64bef746-faa1-4609-c00d-fe52f142b61a",
        "colab": {
          "base_uri": "https://localhost:8080/",
          "height": 34
        }
      },
      "source": [
        "# Check the data type of our date column\n",
        "earthquakes['Date'].dtype"
      ],
      "execution_count": null,
      "outputs": [
        {
          "output_type": "execute_result",
          "data": {
            "text/plain": [
              "dtype('O')"
            ]
          },
          "metadata": {
            "tags": []
          },
          "execution_count": 74
        }
      ]
    },
    {
      "cell_type": "markdown",
      "metadata": {
        "id": "KduWuwySCpft"
      },
      "source": [
        "**2) Convert our date columns to datetime**\n",
        "\n",
        "Most of the entries in the \"Date\" column follow the same format: \"month/day/four-digit year\". However, the entry at index 3378 follows a completely different pattern. Run the code cell below to see this."
      ]
    },
    {
      "cell_type": "code",
      "metadata": {
        "id": "M3YfVivqCrLm",
        "outputId": "e96170b5-7389-41c3-b857-7cbf30ec07da",
        "colab": {
          "base_uri": "https://localhost:8080/",
          "height": 275
        }
      },
      "source": [
        "earthquakes[3378:3383]"
      ],
      "execution_count": null,
      "outputs": [
        {
          "output_type": "execute_result",
          "data": {
            "text/html": [
              "<div>\n",
              "<style scoped>\n",
              "    .dataframe tbody tr th:only-of-type {\n",
              "        vertical-align: middle;\n",
              "    }\n",
              "\n",
              "    .dataframe tbody tr th {\n",
              "        vertical-align: top;\n",
              "    }\n",
              "\n",
              "    .dataframe thead th {\n",
              "        text-align: right;\n",
              "    }\n",
              "</style>\n",
              "<table border=\"1\" class=\"dataframe\">\n",
              "  <thead>\n",
              "    <tr style=\"text-align: right;\">\n",
              "      <th></th>\n",
              "      <th>Date</th>\n",
              "      <th>Time</th>\n",
              "      <th>Latitude</th>\n",
              "      <th>Longitude</th>\n",
              "      <th>Type</th>\n",
              "      <th>Depth</th>\n",
              "      <th>Depth Error</th>\n",
              "      <th>Depth Seismic Stations</th>\n",
              "      <th>Magnitude</th>\n",
              "      <th>Magnitude Type</th>\n",
              "      <th>Magnitude Error</th>\n",
              "      <th>Magnitude Seismic Stations</th>\n",
              "      <th>Azimuthal Gap</th>\n",
              "      <th>Horizontal Distance</th>\n",
              "      <th>Horizontal Error</th>\n",
              "      <th>Root Mean Square</th>\n",
              "      <th>ID</th>\n",
              "      <th>Source</th>\n",
              "      <th>Location Source</th>\n",
              "      <th>Magnitude Source</th>\n",
              "      <th>Status</th>\n",
              "    </tr>\n",
              "  </thead>\n",
              "  <tbody>\n",
              "    <tr>\n",
              "      <th>3378</th>\n",
              "      <td>1975-02-23T02:58:41.000Z</td>\n",
              "      <td>1975-02-23T02:58:41.000Z</td>\n",
              "      <td>8.017</td>\n",
              "      <td>124.075</td>\n",
              "      <td>Earthquake</td>\n",
              "      <td>623.0</td>\n",
              "      <td>NaN</td>\n",
              "      <td>NaN</td>\n",
              "      <td>5.6</td>\n",
              "      <td>MB</td>\n",
              "      <td>NaN</td>\n",
              "      <td>NaN</td>\n",
              "      <td>NaN</td>\n",
              "      <td>NaN</td>\n",
              "      <td>NaN</td>\n",
              "      <td>NaN</td>\n",
              "      <td>USP0000A09</td>\n",
              "      <td>US</td>\n",
              "      <td>US</td>\n",
              "      <td>US</td>\n",
              "      <td>Reviewed</td>\n",
              "    </tr>\n",
              "    <tr>\n",
              "      <th>3379</th>\n",
              "      <td>02/23/1975</td>\n",
              "      <td>03:53:36</td>\n",
              "      <td>-21.727</td>\n",
              "      <td>-71.356</td>\n",
              "      <td>Earthquake</td>\n",
              "      <td>33.0</td>\n",
              "      <td>NaN</td>\n",
              "      <td>NaN</td>\n",
              "      <td>5.6</td>\n",
              "      <td>MB</td>\n",
              "      <td>NaN</td>\n",
              "      <td>NaN</td>\n",
              "      <td>NaN</td>\n",
              "      <td>NaN</td>\n",
              "      <td>NaN</td>\n",
              "      <td>NaN</td>\n",
              "      <td>USP0000A0A</td>\n",
              "      <td>US</td>\n",
              "      <td>US</td>\n",
              "      <td>US</td>\n",
              "      <td>Reviewed</td>\n",
              "    </tr>\n",
              "    <tr>\n",
              "      <th>3380</th>\n",
              "      <td>02/23/1975</td>\n",
              "      <td>07:34:11</td>\n",
              "      <td>-10.879</td>\n",
              "      <td>166.667</td>\n",
              "      <td>Earthquake</td>\n",
              "      <td>33.0</td>\n",
              "      <td>NaN</td>\n",
              "      <td>NaN</td>\n",
              "      <td>5.5</td>\n",
              "      <td>MS</td>\n",
              "      <td>NaN</td>\n",
              "      <td>NaN</td>\n",
              "      <td>NaN</td>\n",
              "      <td>NaN</td>\n",
              "      <td>NaN</td>\n",
              "      <td>NaN</td>\n",
              "      <td>USP0000A0C</td>\n",
              "      <td>US</td>\n",
              "      <td>US</td>\n",
              "      <td>US</td>\n",
              "      <td>Reviewed</td>\n",
              "    </tr>\n",
              "    <tr>\n",
              "      <th>3381</th>\n",
              "      <td>02/25/1975</td>\n",
              "      <td>05:20:05</td>\n",
              "      <td>-7.388</td>\n",
              "      <td>149.798</td>\n",
              "      <td>Earthquake</td>\n",
              "      <td>33.0</td>\n",
              "      <td>NaN</td>\n",
              "      <td>NaN</td>\n",
              "      <td>5.5</td>\n",
              "      <td>MB</td>\n",
              "      <td>NaN</td>\n",
              "      <td>NaN</td>\n",
              "      <td>NaN</td>\n",
              "      <td>NaN</td>\n",
              "      <td>NaN</td>\n",
              "      <td>NaN</td>\n",
              "      <td>USP0000A12</td>\n",
              "      <td>US</td>\n",
              "      <td>US</td>\n",
              "      <td>US</td>\n",
              "      <td>Reviewed</td>\n",
              "    </tr>\n",
              "    <tr>\n",
              "      <th>3382</th>\n",
              "      <td>02/26/1975</td>\n",
              "      <td>04:48:55</td>\n",
              "      <td>85.047</td>\n",
              "      <td>97.969</td>\n",
              "      <td>Earthquake</td>\n",
              "      <td>33.0</td>\n",
              "      <td>NaN</td>\n",
              "      <td>NaN</td>\n",
              "      <td>5.6</td>\n",
              "      <td>MS</td>\n",
              "      <td>NaN</td>\n",
              "      <td>NaN</td>\n",
              "      <td>NaN</td>\n",
              "      <td>NaN</td>\n",
              "      <td>NaN</td>\n",
              "      <td>NaN</td>\n",
              "      <td>USP0000A1H</td>\n",
              "      <td>US</td>\n",
              "      <td>US</td>\n",
              "      <td>US</td>\n",
              "      <td>Reviewed</td>\n",
              "    </tr>\n",
              "  </tbody>\n",
              "</table>\n",
              "</div>"
            ],
            "text/plain": [
              "                          Date  ...    Status\n",
              "3378  1975-02-23T02:58:41.000Z  ...  Reviewed\n",
              "3379                02/23/1975  ...  Reviewed\n",
              "3380                02/23/1975  ...  Reviewed\n",
              "3381                02/25/1975  ...  Reviewed\n",
              "3382                02/26/1975  ...  Reviewed\n",
              "\n",
              "[5 rows x 21 columns]"
            ]
          },
          "metadata": {
            "tags": []
          },
          "execution_count": 75
        }
      ]
    },
    {
      "cell_type": "markdown",
      "metadata": {
        "id": "ynxWUIlgCyvo"
      },
      "source": [
        "\n",
        "\n",
        "> This does appear to be an issue with data entry: ideally, all entries in the column have the same format. We can get an idea of how widespread this issue is by checking the length of each entry in the \"Date\" column.\n",
        "\n"
      ]
    },
    {
      "cell_type": "code",
      "metadata": {
        "id": "095S0H4NC0lP",
        "outputId": "7a1859c5-496b-4c30-dea1-6cca2f50af68",
        "colab": {
          "base_uri": "https://localhost:8080/",
          "height": 68
        }
      },
      "source": [
        "date_lengths = earthquakes.Date.str.len()\n",
        "date_lengths.value_counts()"
      ],
      "execution_count": null,
      "outputs": [
        {
          "output_type": "execute_result",
          "data": {
            "text/plain": [
              "10    23409\n",
              "24        3\n",
              "Name: Date, dtype: int64"
            ]
          },
          "metadata": {
            "tags": []
          },
          "execution_count": 76
        }
      ]
    },
    {
      "cell_type": "markdown",
      "metadata": {
        "id": "ktMgHexEC3qG"
      },
      "source": [
        "\n",
        "\n",
        "> Looks like there are two more rows that has a date in a different format. Run the code cell below to obtain the indices corresponding to those rows and print the data.\n",
        "\n"
      ]
    },
    {
      "cell_type": "code",
      "metadata": {
        "id": "0VHhVGGzC6SF",
        "outputId": "16c28312-311e-445e-d3c2-3dd41a90af9b",
        "colab": {
          "base_uri": "https://localhost:8080/",
          "height": 264
        }
      },
      "source": [
        "indices = np.where([date_lengths == 24])[1]\n",
        "print('Indices with corrupted data:', indices)\n",
        "earthquakes.loc[indices]"
      ],
      "execution_count": null,
      "outputs": [
        {
          "output_type": "stream",
          "text": [
            "Indices with corrupted data: [ 3378  7512 20650]\n"
          ],
          "name": "stdout"
        },
        {
          "output_type": "execute_result",
          "data": {
            "text/html": [
              "<div>\n",
              "<style scoped>\n",
              "    .dataframe tbody tr th:only-of-type {\n",
              "        vertical-align: middle;\n",
              "    }\n",
              "\n",
              "    .dataframe tbody tr th {\n",
              "        vertical-align: top;\n",
              "    }\n",
              "\n",
              "    .dataframe thead th {\n",
              "        text-align: right;\n",
              "    }\n",
              "</style>\n",
              "<table border=\"1\" class=\"dataframe\">\n",
              "  <thead>\n",
              "    <tr style=\"text-align: right;\">\n",
              "      <th></th>\n",
              "      <th>Date</th>\n",
              "      <th>Time</th>\n",
              "      <th>Latitude</th>\n",
              "      <th>Longitude</th>\n",
              "      <th>Type</th>\n",
              "      <th>Depth</th>\n",
              "      <th>Depth Error</th>\n",
              "      <th>Depth Seismic Stations</th>\n",
              "      <th>Magnitude</th>\n",
              "      <th>Magnitude Type</th>\n",
              "      <th>Magnitude Error</th>\n",
              "      <th>Magnitude Seismic Stations</th>\n",
              "      <th>Azimuthal Gap</th>\n",
              "      <th>Horizontal Distance</th>\n",
              "      <th>Horizontal Error</th>\n",
              "      <th>Root Mean Square</th>\n",
              "      <th>ID</th>\n",
              "      <th>Source</th>\n",
              "      <th>Location Source</th>\n",
              "      <th>Magnitude Source</th>\n",
              "      <th>Status</th>\n",
              "    </tr>\n",
              "  </thead>\n",
              "  <tbody>\n",
              "    <tr>\n",
              "      <th>3378</th>\n",
              "      <td>1975-02-23T02:58:41.000Z</td>\n",
              "      <td>1975-02-23T02:58:41.000Z</td>\n",
              "      <td>8.017</td>\n",
              "      <td>124.075</td>\n",
              "      <td>Earthquake</td>\n",
              "      <td>623.0</td>\n",
              "      <td>NaN</td>\n",
              "      <td>NaN</td>\n",
              "      <td>5.6</td>\n",
              "      <td>MB</td>\n",
              "      <td>NaN</td>\n",
              "      <td>NaN</td>\n",
              "      <td>NaN</td>\n",
              "      <td>NaN</td>\n",
              "      <td>NaN</td>\n",
              "      <td>NaN</td>\n",
              "      <td>USP0000A09</td>\n",
              "      <td>US</td>\n",
              "      <td>US</td>\n",
              "      <td>US</td>\n",
              "      <td>Reviewed</td>\n",
              "    </tr>\n",
              "    <tr>\n",
              "      <th>7512</th>\n",
              "      <td>1985-04-28T02:53:41.530Z</td>\n",
              "      <td>1985-04-28T02:53:41.530Z</td>\n",
              "      <td>-32.998</td>\n",
              "      <td>-71.766</td>\n",
              "      <td>Earthquake</td>\n",
              "      <td>33.0</td>\n",
              "      <td>NaN</td>\n",
              "      <td>NaN</td>\n",
              "      <td>5.6</td>\n",
              "      <td>MW</td>\n",
              "      <td>NaN</td>\n",
              "      <td>NaN</td>\n",
              "      <td>NaN</td>\n",
              "      <td>NaN</td>\n",
              "      <td>NaN</td>\n",
              "      <td>1.30</td>\n",
              "      <td>USP0002E81</td>\n",
              "      <td>US</td>\n",
              "      <td>US</td>\n",
              "      <td>HRV</td>\n",
              "      <td>Reviewed</td>\n",
              "    </tr>\n",
              "    <tr>\n",
              "      <th>20650</th>\n",
              "      <td>2011-03-13T02:23:34.520Z</td>\n",
              "      <td>2011-03-13T02:23:34.520Z</td>\n",
              "      <td>36.344</td>\n",
              "      <td>142.344</td>\n",
              "      <td>Earthquake</td>\n",
              "      <td>10.1</td>\n",
              "      <td>13.9</td>\n",
              "      <td>289.0</td>\n",
              "      <td>5.8</td>\n",
              "      <td>MWC</td>\n",
              "      <td>NaN</td>\n",
              "      <td>NaN</td>\n",
              "      <td>32.3</td>\n",
              "      <td>NaN</td>\n",
              "      <td>NaN</td>\n",
              "      <td>1.06</td>\n",
              "      <td>USP000HWQP</td>\n",
              "      <td>US</td>\n",
              "      <td>US</td>\n",
              "      <td>GCMT</td>\n",
              "      <td>Reviewed</td>\n",
              "    </tr>\n",
              "  </tbody>\n",
              "</table>\n",
              "</div>"
            ],
            "text/plain": [
              "                           Date  ...    Status\n",
              "3378   1975-02-23T02:58:41.000Z  ...  Reviewed\n",
              "7512   1985-04-28T02:53:41.530Z  ...  Reviewed\n",
              "20650  2011-03-13T02:23:34.520Z  ...  Reviewed\n",
              "\n",
              "[3 rows x 21 columns]"
            ]
          },
          "metadata": {
            "tags": []
          },
          "execution_count": 77
        }
      ]
    },
    {
      "cell_type": "markdown",
      "metadata": {
        "id": "yyU1tCaEC9x8"
      },
      "source": [
        "> Given all of this information, it's your turn to create a new column \"date_parsed\" in the earthquakes dataset that has correctly parsed dates in it.\n",
        "\n",
        "Note: When completing this problem, you are allowed to (but are not required to) amend the entries in the \"Date\" and \"Time\" columns. Do not remove any rows from the dataset."
      ]
    },
    {
      "cell_type": "code",
      "metadata": {
        "id": "3qarkNYdDABp",
        "outputId": "baa6f579-a94a-4d11-90cd-e3ba52f9180b",
        "colab": {
          "base_uri": "https://localhost:8080/",
          "height": 173
        }
      },
      "source": [
        "for ind in indices:\n",
        "    truncated = earthquakes.Date[ind][0:10]\n",
        "    earthquakes.Date[ind] = truncated\n",
        "    print(earthquakes.Date[ind])\n",
        "\n",
        "earthquakes['date_parsed'] = pd.to_datetime(earthquakes['Date'], format=\"%m/%d/%Y\", infer_datetime_format=True)   "
      ],
      "execution_count": null,
      "outputs": [
        {
          "output_type": "stream",
          "text": [
            "1975-02-23\n",
            "1985-04-28\n",
            "2011-03-13\n"
          ],
          "name": "stdout"
        },
        {
          "output_type": "stream",
          "text": [
            "/usr/local/lib/python3.6/dist-packages/ipykernel_launcher.py:3: SettingWithCopyWarning: \n",
            "A value is trying to be set on a copy of a slice from a DataFrame\n",
            "\n",
            "See the caveats in the documentation: https://pandas.pydata.org/pandas-docs/stable/user_guide/indexing.html#returning-a-view-versus-a-copy\n",
            "  This is separate from the ipykernel package so we can avoid doing imports until\n"
          ],
          "name": "stderr"
        }
      ]
    },
    {
      "cell_type": "code",
      "metadata": {
        "id": "0Ke-NEJpDL63",
        "outputId": "565b60da-2963-473a-beb4-e795b49ad993",
        "colab": {
          "base_uri": "https://localhost:8080/",
          "height": 119
        }
      },
      "source": [
        "earthquakes['date_parsed'].head()"
      ],
      "execution_count": null,
      "outputs": [
        {
          "output_type": "execute_result",
          "data": {
            "text/plain": [
              "0   1965-01-02\n",
              "1   1965-01-04\n",
              "2   1965-01-05\n",
              "3   1965-01-08\n",
              "4   1965-01-09\n",
              "Name: date_parsed, dtype: datetime64[ns]"
            ]
          },
          "metadata": {
            "tags": []
          },
          "execution_count": 81
        }
      ]
    },
    {
      "cell_type": "markdown",
      "metadata": {
        "id": "ZdVvbUTaDZjU"
      },
      "source": [
        "**3) Select the day of the month**\n",
        "\n",
        "> Create a Pandas Series `day_of_month_earthquakes `containing the day of the month from the \"date_parsed\" column."
      ]
    },
    {
      "cell_type": "code",
      "metadata": {
        "id": "5mVMuau1Di0v",
        "outputId": "cf0b5221-3e5c-4ff0-8343-594eb7b184b8",
        "colab": {
          "base_uri": "https://localhost:8080/",
          "height": 119
        }
      },
      "source": [
        "# Get the day of the month from the date column\n",
        "day_of_month_earthquakes = earthquakes['date_parsed'].dt.day\n",
        "day_of_month_earthquakes.head()"
      ],
      "execution_count": null,
      "outputs": [
        {
          "output_type": "execute_result",
          "data": {
            "text/plain": [
              "0    2\n",
              "1    4\n",
              "2    5\n",
              "3    8\n",
              "4    9\n",
              "Name: date_parsed, dtype: int64"
            ]
          },
          "metadata": {
            "tags": []
          },
          "execution_count": 82
        }
      ]
    },
    {
      "cell_type": "markdown",
      "metadata": {
        "id": "z3VCLTWwD28h"
      },
      "source": [
        "**4) Plot the day of the month to check the date parsing**\n",
        "\n",
        "Plot the days of the month from your earthquake dataset."
      ]
    },
    {
      "cell_type": "code",
      "metadata": {
        "id": "Tj5HTFZqD6V7",
        "outputId": "96fcda97-32f8-4f79-ea31-936c8759b0e7",
        "colab": {
          "base_uri": "https://localhost:8080/",
          "height": 297
        }
      },
      "source": [
        "sns.distplot(day_of_month_earthquakes, bins = 31, kde = False)"
      ],
      "execution_count": null,
      "outputs": [
        {
          "output_type": "execute_result",
          "data": {
            "text/plain": [
              "<matplotlib.axes._subplots.AxesSubplot at 0x7fe13f2cddd8>"
            ]
          },
          "metadata": {
            "tags": []
          },
          "execution_count": 83
        },
        {
          "output_type": "display_data",
          "data": {
            "image/png": "[encoded data removed]",
            "text/plain": [
              "<Figure size 432x288 with 1 Axes>"
            ]
          },
          "metadata": {
            "tags": [],
            "needs_background": "light"
          }
        }
      ]
    },
    {
      "cell_type": "markdown",
      "metadata": {
        "id": "W89ADv2_EHV4"
      },
      "source": [
        "## **(Optional) Bonus Challenge**\n",
        "\n",
        "For an extra challenge, you'll work with a [Smithsonian dataset](https://www.kaggle.com/smithsonian/volcanic-eruptions) that documents Earth's volcanoes and their eruptive history over the past 10,000 years\n",
        "\n",
        "Run the next code cell to load the data."
      ]
    },
    {
      "cell_type": "markdown",
      "metadata": {
        "id": "FRUz3NPlERk2"
      },
      "source": [
        "## **(Optional) More practice**\n",
        "If you're interested in graphing time series, [check out this tutorial](https://www.kaggle.com/residentmario/time-series-plotting-optional).\n",
        "\n",
        "You can also look into passing columns that you know have dates in them the parse_dates argument in read_csv. (The documention is [here](https://pandas.pydata.org/pandas-docs/stable/generated/pandas.read_csv.html).) Do note that this method can be very slow, but depending on your needs it may sometimes be handy to use.\n",
        "\n",
        "Keep going\n",
        "In the next lesson, learn how to work with character encodings."
      ]
    }
  ]
}