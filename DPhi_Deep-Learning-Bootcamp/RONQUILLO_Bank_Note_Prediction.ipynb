{
  "nbformat": 4,
  "nbformat_minor": 0,
  "metadata": {
    "colab": {
      "name": "RONQUILLO_Bank-Note-Prediction.ipynb",
      "provenance": [],
      "collapsed_sections": [],
      "authorship_tag": "ABX9TyM+Na49S232kO5B7WaQEIXj"
    },
    "kernelspec": {
      "name": "python3",
      "display_name": "Python 3"
    }
  },
  "cells": [
    {
      "cell_type": "markdown",
      "metadata": {
        "id": "jpz6CpqZ1zGz"
      },
      "source": [
        "## Deep Learning Bootcamp\n",
        "\n",
        "Predict if a bank note is genuine or not"
      ]
    },
    {
      "cell_type": "markdown",
      "metadata": {
        "id": "_Gbi_zg9ZUom"
      },
      "source": [
        "**Loading libraries**"
      ]
    },
    {
      "cell_type": "code",
      "metadata": {
        "id": "4fgz4jl-XB7S"
      },
      "source": [
        "import numpy as np                # for matrix computations\n",
        "import pandas as pd               # for loading CSV files\n",
        "import matplotlib.pyplot as plt   # for data visualization"
      ],
      "execution_count": null,
      "outputs": []
    },
    {
      "cell_type": "markdown",
      "metadata": {
        "id": "DkCEKjbxXhuH"
      },
      "source": [
        "**Training Dataset**"
      ]
    },
    {
      "cell_type": "code",
      "metadata": {
        "id": "9hHUDcSmXI4D"
      },
      "source": [
        "# Load the training data\n",
        "bank_note_data = pd.read_csv(\"https://raw.githubusercontent.com/dphi-official/Datasets/master/bank_note_data/training_set_label.csv\" )"
      ],
      "execution_count": null,
      "outputs": []
    },
    {
      "cell_type": "markdown",
      "metadata": {
        "id": "gvn_t77PXP5M"
      },
      "source": [
        "**Data Description**\n",
        "\n",
        "1. **VWTI:** Variance of Wavelet Transformed Image\n",
        "2. **SWTI:** Skewness of Wavelet Transformed Image\n",
        "3. **CWTI:** Curtosis of Wavelet Transformed Image\n",
        "4. **EI:** Entropy of Image\n",
        "5. **Class:** Class (1: genuine, 0: forged)"
      ]
    },
    {
      "cell_type": "code",
      "metadata": {
        "id": "n3lnpVcKYmPw",
        "outputId": "ee4860f4-db93-4803-f974-eba18272c338",
        "colab": {
          "base_uri": "https://localhost:8080/",
          "height": 195
        }
      },
      "source": [
        "bank_note_data.head()"
      ],
      "execution_count": null,
      "outputs": [
        {
          "output_type": "execute_result",
          "data": {
            "text/html": [
              "<div>\n",
              "<style scoped>\n",
              "    .dataframe tbody tr th:only-of-type {\n",
              "        vertical-align: middle;\n",
              "    }\n",
              "\n",
              "    .dataframe tbody tr th {\n",
              "        vertical-align: top;\n",
              "    }\n",
              "\n",
              "    .dataframe thead th {\n",
              "        text-align: right;\n",
              "    }\n",
              "</style>\n",
              "<table border=\"1\" class=\"dataframe\">\n",
              "  <thead>\n",
              "    <tr style=\"text-align: right;\">\n",
              "      <th></th>\n",
              "      <th>VWTI</th>\n",
              "      <th>SWTI</th>\n",
              "      <th>CWTI</th>\n",
              "      <th>EI</th>\n",
              "      <th>Class</th>\n",
              "    </tr>\n",
              "  </thead>\n",
              "  <tbody>\n",
              "    <tr>\n",
              "      <th>0</th>\n",
              "      <td>2.2634</td>\n",
              "      <td>-4.4862</td>\n",
              "      <td>3.6558</td>\n",
              "      <td>-0.612510</td>\n",
              "      <td>0</td>\n",
              "    </tr>\n",
              "    <tr>\n",
              "      <th>1</th>\n",
              "      <td>3.2718</td>\n",
              "      <td>1.7837</td>\n",
              "      <td>2.1161</td>\n",
              "      <td>0.613340</td>\n",
              "      <td>0</td>\n",
              "    </tr>\n",
              "    <tr>\n",
              "      <th>2</th>\n",
              "      <td>-3.9411</td>\n",
              "      <td>-12.8792</td>\n",
              "      <td>13.0597</td>\n",
              "      <td>-3.312500</td>\n",
              "      <td>1</td>\n",
              "    </tr>\n",
              "    <tr>\n",
              "      <th>3</th>\n",
              "      <td>0.5195</td>\n",
              "      <td>-3.2633</td>\n",
              "      <td>3.0895</td>\n",
              "      <td>-0.984900</td>\n",
              "      <td>0</td>\n",
              "    </tr>\n",
              "    <tr>\n",
              "      <th>4</th>\n",
              "      <td>2.5698</td>\n",
              "      <td>-4.4076</td>\n",
              "      <td>5.9856</td>\n",
              "      <td>0.078002</td>\n",
              "      <td>0</td>\n",
              "    </tr>\n",
              "  </tbody>\n",
              "</table>\n",
              "</div>"
            ],
            "text/plain": [
              "     VWTI     SWTI     CWTI        EI  Class\n",
              "0  2.2634  -4.4862   3.6558 -0.612510      0\n",
              "1  3.2718   1.7837   2.1161  0.613340      0\n",
              "2 -3.9411 -12.8792  13.0597 -3.312500      1\n",
              "3  0.5195  -3.2633   3.0895 -0.984900      0\n",
              "4  2.5698  -4.4076   5.9856  0.078002      0"
            ]
          },
          "metadata": {
            "tags": []
          },
          "execution_count": 4
        }
      ]
    },
    {
      "cell_type": "code",
      "metadata": {
        "id": "2g4_RBXvYtER",
        "outputId": "e42c75b9-9c25-47a0-b90a-4b7fae732e3c",
        "colab": {
          "base_uri": "https://localhost:8080/"
        }
      },
      "source": [
        "bank_note_data.info()"
      ],
      "execution_count": null,
      "outputs": [
        {
          "output_type": "stream",
          "text": [
            "<class 'pandas.core.frame.DataFrame'>\n",
            "RangeIndex: 1096 entries, 0 to 1095\n",
            "Data columns (total 5 columns):\n",
            " #   Column  Non-Null Count  Dtype  \n",
            "---  ------  --------------  -----  \n",
            " 0   VWTI    1096 non-null   float64\n",
            " 1   SWTI    1096 non-null   float64\n",
            " 2   CWTI    1096 non-null   float64\n",
            " 3   EI      1096 non-null   float64\n",
            " 4   Class   1096 non-null   int64  \n",
            "dtypes: float64(4), int64(1)\n",
            "memory usage: 42.9 KB\n"
          ],
          "name": "stdout"
        }
      ]
    },
    {
      "cell_type": "code",
      "metadata": {
        "id": "3V1fe_rbZfIA",
        "outputId": "a4c2428b-cc15-4d5d-fa7e-7de711959192",
        "colab": {
          "base_uri": "https://localhost:8080/"
        }
      },
      "source": [
        "bank_note_data.shape    # gives shape of the dataframe (rows x columns)"
      ],
      "execution_count": null,
      "outputs": [
        {
          "output_type": "execute_result",
          "data": {
            "text/plain": [
              "(1096, 5)"
            ]
          },
          "metadata": {
            "tags": []
          },
          "execution_count": 6
        }
      ]
    },
    {
      "cell_type": "markdown",
      "metadata": {
        "id": "wV5ptI9CXWU9"
      },
      "source": [
        "**Test Dataset**\n",
        "\n"
      ]
    },
    {
      "cell_type": "code",
      "metadata": {
        "id": "TI3hg7t6XeO5"
      },
      "source": [
        "# Load test dataset\n",
        "test_data = pd.read_csv('https://raw.githubusercontent.com/dphi-official/Datasets/master/bank_note_data/testing_set_label.csv')"
      ],
      "execution_count": null,
      "outputs": []
    },
    {
      "cell_type": "code",
      "metadata": {
        "id": "zw7QClbEYog_",
        "outputId": "3ceacd8c-4d95-46da-8c1a-a69a11c9bcb6",
        "colab": {
          "base_uri": "https://localhost:8080/",
          "height": 195
        }
      },
      "source": [
        "test_data.head()"
      ],
      "execution_count": null,
      "outputs": [
        {
          "output_type": "execute_result",
          "data": {
            "text/html": [
              "<div>\n",
              "<style scoped>\n",
              "    .dataframe tbody tr th:only-of-type {\n",
              "        vertical-align: middle;\n",
              "    }\n",
              "\n",
              "    .dataframe tbody tr th {\n",
              "        vertical-align: top;\n",
              "    }\n",
              "\n",
              "    .dataframe thead th {\n",
              "        text-align: right;\n",
              "    }\n",
              "</style>\n",
              "<table border=\"1\" class=\"dataframe\">\n",
              "  <thead>\n",
              "    <tr style=\"text-align: right;\">\n",
              "      <th></th>\n",
              "      <th>VWTI</th>\n",
              "      <th>SWTI</th>\n",
              "      <th>CWTI</th>\n",
              "      <th>EI</th>\n",
              "    </tr>\n",
              "  </thead>\n",
              "  <tbody>\n",
              "    <tr>\n",
              "      <th>0</th>\n",
              "      <td>-0.40804</td>\n",
              "      <td>0.54214</td>\n",
              "      <td>-0.52725</td>\n",
              "      <td>0.65860</td>\n",
              "    </tr>\n",
              "    <tr>\n",
              "      <th>1</th>\n",
              "      <td>-3.71810</td>\n",
              "      <td>-8.50890</td>\n",
              "      <td>12.36300</td>\n",
              "      <td>-0.95518</td>\n",
              "    </tr>\n",
              "    <tr>\n",
              "      <th>2</th>\n",
              "      <td>5.50400</td>\n",
              "      <td>10.36710</td>\n",
              "      <td>-4.41300</td>\n",
              "      <td>-4.02110</td>\n",
              "    </tr>\n",
              "    <tr>\n",
              "      <th>3</th>\n",
              "      <td>1.68490</td>\n",
              "      <td>8.74890</td>\n",
              "      <td>-1.26410</td>\n",
              "      <td>-1.38580</td>\n",
              "    </tr>\n",
              "    <tr>\n",
              "      <th>4</th>\n",
              "      <td>4.74320</td>\n",
              "      <td>2.10860</td>\n",
              "      <td>0.13680</td>\n",
              "      <td>1.65430</td>\n",
              "    </tr>\n",
              "  </tbody>\n",
              "</table>\n",
              "</div>"
            ],
            "text/plain": [
              "      VWTI      SWTI      CWTI       EI\n",
              "0 -0.40804   0.54214  -0.52725  0.65860\n",
              "1 -3.71810  -8.50890  12.36300 -0.95518\n",
              "2  5.50400  10.36710  -4.41300 -4.02110\n",
              "3  1.68490   8.74890  -1.26410 -1.38580\n",
              "4  4.74320   2.10860   0.13680  1.65430"
            ]
          },
          "metadata": {
            "tags": []
          },
          "execution_count": 8
        }
      ]
    },
    {
      "cell_type": "code",
      "metadata": {
        "id": "wIRqdxYXY2yy",
        "outputId": "02288836-21c7-486f-bc9a-5cb348799a87",
        "colab": {
          "base_uri": "https://localhost:8080/"
        }
      },
      "source": [
        "test_data.info()"
      ],
      "execution_count": null,
      "outputs": [
        {
          "output_type": "stream",
          "text": [
            "<class 'pandas.core.frame.DataFrame'>\n",
            "RangeIndex: 275 entries, 0 to 274\n",
            "Data columns (total 4 columns):\n",
            " #   Column  Non-Null Count  Dtype  \n",
            "---  ------  --------------  -----  \n",
            " 0   VWTI    275 non-null    float64\n",
            " 1   SWTI    275 non-null    float64\n",
            " 2   CWTI    275 non-null    float64\n",
            " 3   EI      275 non-null    float64\n",
            "dtypes: float64(4)\n",
            "memory usage: 8.7 KB\n"
          ],
          "name": "stdout"
        }
      ]
    },
    {
      "cell_type": "markdown",
      "metadata": {
        "id": "NgU0AHInZwqt"
      },
      "source": [
        "**Separating Input and Target Variable**"
      ]
    },
    {
      "cell_type": "code",
      "metadata": {
        "id": "1Avn4vYQZzOy"
      },
      "source": [
        "X_train = bank_note_data.drop('Class', axis = 1)    # input variables from training data\n",
        "y_train = bank_note_data['Class']                   # target variable from training data"
      ],
      "execution_count": null,
      "outputs": []
    },
    {
      "cell_type": "code",
      "metadata": {
        "id": "12q4aNdvbXT8",
        "outputId": "6f52cde2-3eba-44c9-b2b6-76cd6b5ea181",
        "colab": {
          "base_uri": "https://localhost:8080/"
        }
      },
      "source": [
        "# Check the number of input features\n",
        "X_train.shape[1]"
      ],
      "execution_count": null,
      "outputs": [
        {
          "output_type": "execute_result",
          "data": {
            "text/plain": [
              "4"
            ]
          },
          "metadata": {
            "tags": []
          },
          "execution_count": 11
        }
      ]
    },
    {
      "cell_type": "markdown",
      "metadata": {
        "id": "-UAXvUnOdttr"
      },
      "source": [
        "**Libraries for Building Model**"
      ]
    },
    {
      "cell_type": "code",
      "metadata": {
        "id": "kZ-Zev35dvmc"
      },
      "source": [
        "import tensorflow as tf\n",
        "from tensorflow import keras\n",
        "\n",
        "from tensorflow.keras import Sequential\n",
        "from tensorflow.keras import layers\n",
        "from tensorflow.keras.layers import Dense"
      ],
      "execution_count": null,
      "outputs": []
    },
    {
      "cell_type": "markdown",
      "metadata": {
        "id": "LHf-KJnNeN7a"
      },
      "source": [
        "**Model Creation**\n",
        "\n",
        "*    Sigmoid activation function will be in the final layer of neural network, since this is a binary classification problem.\n",
        "\n",
        "*    Sigmoid function will give an output between 0 and 1. \n",
        "\n",
        "*    Will create a sequential model and add layers until one at a time until network architecture is fine."
      ]
    },
    {
      "cell_type": "markdown",
      "metadata": {
        "id": "DxzKrtkafRBd"
      },
      "source": [
        "**Model Architecture**\n",
        "\n",
        "**input** = the # of feature in X_train = 4\n",
        "\n",
        "*     the # of neurons in first dense layer = 16\n",
        "\n",
        "*     the # of neurons in the second dense layer = 8\n",
        "\n",
        "*     the # of neurons in the third dense layer = 4\n",
        "\n",
        "*     the # of neurons in the output layer = 1"
      ]
    },
    {
      "cell_type": "code",
      "metadata": {
        "id": "uaDHOcYMeQ-5"
      },
      "source": [
        "# Building the model\n",
        "model = Sequential()\n",
        "model.add(Dense(16, activation='relu', input_shape=(X_train.shape[1],)))\n",
        "model.add(Dense(8, activation='relu'))\n",
        "model.add(Dense(4, activation='relu'))\n",
        "model.add(Dense(1, activation='sigmoid'))"
      ],
      "execution_count": null,
      "outputs": []
    },
    {
      "cell_type": "markdown",
      "metadata": {
        "id": "zXkGUgq_iCSg"
      },
      "source": [
        "The above codes creates a neural network with 4 layers."
      ]
    },
    {
      "cell_type": "markdown",
      "metadata": {
        "id": "wacbbbeShEwB"
      },
      "source": [
        "**Model Compilation**\n",
        "\n"
      ]
    },
    {
      "cell_type": "code",
      "metadata": {
        "id": "ENNP3MB-hI0B"
      },
      "source": [
        "# Compiling the model\n",
        "from tensorflow.keras.optimizers import RMSprop\n",
        "\n",
        "optimizer = RMSprop(0.001)      # set learning rate as 0.001\n",
        "model.compile(loss='binary_crossentropy', optimizer = optimizer, metrics=['accuracy'])"
      ],
      "execution_count": null,
      "outputs": []
    },
    {
      "cell_type": "markdown",
      "metadata": {
        "id": "9MyBrKx5iHZJ"
      },
      "source": [
        "* The loss function used is **binary_crossentropy**. Mostly used in binary classification problems as the optimizer of choice. It gives the output in the form of probability.\n",
        "* The **RMSprop** is used as the optimizer.\n",
        "* The **learning rate** is 0.001. It can be any values depending on the optimal learning rate for the model which can be retrieved using trial and error.\n",
        "* Metrics used to evaluate the model is **accuracy**. It calculates how often the calculation made by the model is correct."
      ]
    },
    {
      "cell_type": "code",
      "metadata": {
        "id": "rzb9WBWchbhN",
        "outputId": "3d05ea48-307b-4715-8626-cc450d8ffa94",
        "colab": {
          "base_uri": "https://localhost:8080/"
        }
      },
      "source": [
        "# printing the summary of the model\n",
        "model.summary()"
      ],
      "execution_count": null,
      "outputs": [
        {
          "output_type": "stream",
          "text": [
            "Model: \"sequential\"\n",
            "_________________________________________________________________\n",
            "Layer (type)                 Output Shape              Param #   \n",
            "=================================================================\n",
            "dense (Dense)                (None, 16)                80        \n",
            "_________________________________________________________________\n",
            "dense_1 (Dense)              (None, 8)                 136       \n",
            "_________________________________________________________________\n",
            "dense_2 (Dense)              (None, 4)                 36        \n",
            "_________________________________________________________________\n",
            "dense_3 (Dense)              (None, 1)                 5         \n",
            "=================================================================\n",
            "Total params: 257\n",
            "Trainable params: 257\n",
            "Non-trainable params: 0\n",
            "_________________________________________________________________\n"
          ],
          "name": "stdout"
        }
      ]
    },
    {
      "cell_type": "code",
      "metadata": {
        "id": "t87xmHhCjo-9",
        "outputId": "988aba25-91b1-46b6-ee8c-e24947146bd9",
        "colab": {
          "base_uri": "https://localhost:8080/",
          "height": 466
        }
      },
      "source": [
        "# plotting the model\n",
        "from tensorflow.keras.utils import plot_model\n",
        "plot_model(model)"
      ],
      "execution_count": null,
      "outputs": [
        {
          "output_type": "execute_result",
          "data": {
            "image/png": "[encoded data removed]",
            "text/plain": [
              "<IPython.core.display.Image object>"
            ]
          },
          "metadata": {
            "tags": []
          },
          "execution_count": 16
        }
      ]
    },
    {
      "cell_type": "markdown",
      "metadata": {
        "id": "Q7J1WoU7knE4"
      },
      "source": [
        "**Model Training**\n",
        "\n",
        "* **validation_split** is part of the training data.\n",
        "\n",
        "Saving the trained model to a variable called **history**. \n",
        "\n",
        "This object keeps all loss values and other metric values in memory so that they can be used for visualizations.\n",
        "\n",
        "The history object is the output of the fit operation."
      ]
    },
    {
      "cell_type": "code",
      "metadata": {
        "id": "DdC2fNeUk4Vi",
        "outputId": "db892687-653f-49b3-a9ae-4a7f0b496e14",
        "colab": {
          "base_uri": "https://localhost:8080/"
        }
      },
      "source": [
        "history = model.fit(X_train, y_train, validation_split = 0.2, epochs = 200, batch_size =10, verbose = 1)"
      ],
      "execution_count": null,
      "outputs": [
        {
          "output_type": "stream",
          "text": [
            "Epoch 1/200\n",
            "88/88 [==============================] - 0s 4ms/step - loss: 0.4276 - accuracy: 0.8573 - val_loss: 0.3255 - val_accuracy: 0.9227\n",
            "Epoch 2/200\n",
            "88/88 [==============================] - 0s 1ms/step - loss: 0.2287 - accuracy: 0.9612 - val_loss: 0.1454 - val_accuracy: 0.9955\n",
            "Epoch 3/200\n",
            "88/88 [==============================] - 0s 1ms/step - loss: 0.0985 - accuracy: 0.9886 - val_loss: 0.0590 - val_accuracy: 1.0000\n",
            "Epoch 4/200\n",
            "88/88 [==============================] - 0s 1ms/step - loss: 0.0441 - accuracy: 0.9897 - val_loss: 0.0242 - val_accuracy: 1.0000\n",
            "Epoch 5/200\n",
            "88/88 [==============================] - 0s 1ms/step - loss: 0.0201 - accuracy: 0.9989 - val_loss: 0.0103 - val_accuracy: 1.0000\n",
            "Epoch 6/200\n",
            "88/88 [==============================] - 0s 1ms/step - loss: 0.0098 - accuracy: 1.0000 - val_loss: 0.0049 - val_accuracy: 1.0000\n",
            "Epoch 7/200\n",
            "88/88 [==============================] - 0s 1ms/step - loss: 0.0053 - accuracy: 1.0000 - val_loss: 0.0024 - val_accuracy: 1.0000\n",
            "Epoch 8/200\n",
            "88/88 [==============================] - 0s 1ms/step - loss: 0.0028 - accuracy: 1.0000 - val_loss: 0.0012 - val_accuracy: 1.0000\n",
            "Epoch 9/200\n",
            "88/88 [==============================] - 0s 1ms/step - loss: 0.0017 - accuracy: 1.0000 - val_loss: 8.5140e-04 - val_accuracy: 1.0000\n",
            "Epoch 10/200\n",
            "88/88 [==============================] - 0s 1ms/step - loss: 0.0013 - accuracy: 1.0000 - val_loss: 4.8101e-04 - val_accuracy: 1.0000\n",
            "Epoch 11/200\n",
            "88/88 [==============================] - 0s 1ms/step - loss: 8.1416e-04 - accuracy: 1.0000 - val_loss: 2.9556e-04 - val_accuracy: 1.0000\n",
            "Epoch 12/200\n",
            "88/88 [==============================] - 0s 2ms/step - loss: 4.5519e-04 - accuracy: 1.0000 - val_loss: 2.3595e-04 - val_accuracy: 1.0000\n",
            "Epoch 13/200\n",
            "88/88 [==============================] - 0s 1ms/step - loss: 3.1565e-04 - accuracy: 1.0000 - val_loss: 1.2889e-04 - val_accuracy: 1.0000\n",
            "Epoch 14/200\n",
            "88/88 [==============================] - 0s 1ms/step - loss: 2.0303e-04 - accuracy: 1.0000 - val_loss: 8.6106e-05 - val_accuracy: 1.0000\n",
            "Epoch 15/200\n",
            "88/88 [==============================] - 0s 1ms/step - loss: 1.4875e-04 - accuracy: 1.0000 - val_loss: 4.8591e-05 - val_accuracy: 1.0000\n",
            "Epoch 16/200\n",
            "88/88 [==============================] - 0s 1ms/step - loss: 1.1025e-04 - accuracy: 1.0000 - val_loss: 3.0947e-05 - val_accuracy: 1.0000\n",
            "Epoch 17/200\n",
            "88/88 [==============================] - 0s 1ms/step - loss: 6.2897e-05 - accuracy: 1.0000 - val_loss: 2.7831e-05 - val_accuracy: 1.0000\n",
            "Epoch 18/200\n",
            "88/88 [==============================] - 0s 1ms/step - loss: 4.6686e-05 - accuracy: 1.0000 - val_loss: 1.6110e-05 - val_accuracy: 1.0000\n",
            "Epoch 19/200\n",
            "88/88 [==============================] - 0s 1ms/step - loss: 2.9672e-05 - accuracy: 1.0000 - val_loss: 8.5290e-06 - val_accuracy: 1.0000\n",
            "Epoch 20/200\n",
            "88/88 [==============================] - 0s 1ms/step - loss: 1.6918e-05 - accuracy: 1.0000 - val_loss: 4.9625e-06 - val_accuracy: 1.0000\n",
            "Epoch 21/200\n",
            "88/88 [==============================] - 0s 1ms/step - loss: 1.0095e-05 - accuracy: 1.0000 - val_loss: 4.7160e-06 - val_accuracy: 1.0000\n",
            "Epoch 22/200\n",
            "88/88 [==============================] - 0s 1ms/step - loss: 6.2486e-06 - accuracy: 1.0000 - val_loss: 3.1749e-06 - val_accuracy: 1.0000\n",
            "Epoch 23/200\n",
            "88/88 [==============================] - 0s 1ms/step - loss: 4.5279e-06 - accuracy: 1.0000 - val_loss: 1.1593e-06 - val_accuracy: 1.0000\n",
            "Epoch 24/200\n",
            "88/88 [==============================] - 0s 1ms/step - loss: 2.8539e-06 - accuracy: 1.0000 - val_loss: 6.3072e-07 - val_accuracy: 1.0000\n",
            "Epoch 25/200\n",
            "88/88 [==============================] - 0s 1ms/step - loss: 5.2334e-06 - accuracy: 1.0000 - val_loss: 3.6169e-07 - val_accuracy: 1.0000\n",
            "Epoch 26/200\n",
            "88/88 [==============================] - 0s 2ms/step - loss: 9.9971e-07 - accuracy: 1.0000 - val_loss: 3.0078e-07 - val_accuracy: 1.0000\n",
            "Epoch 27/200\n",
            "88/88 [==============================] - 0s 1ms/step - loss: 8.5611e-07 - accuracy: 1.0000 - val_loss: 2.1476e-07 - val_accuracy: 1.0000\n",
            "Epoch 28/200\n",
            "88/88 [==============================] - 0s 1ms/step - loss: 5.9607e-07 - accuracy: 1.0000 - val_loss: 1.2689e-07 - val_accuracy: 1.0000\n",
            "Epoch 29/200\n",
            "88/88 [==============================] - 0s 1ms/step - loss: 3.5375e-07 - accuracy: 1.0000 - val_loss: 5.1113e-07 - val_accuracy: 1.0000\n",
            "Epoch 30/200\n",
            "88/88 [==============================] - 0s 1ms/step - loss: 3.6589e-07 - accuracy: 1.0000 - val_loss: 7.6811e-08 - val_accuracy: 1.0000\n",
            "Epoch 31/200\n",
            "88/88 [==============================] - 0s 1ms/step - loss: 2.2507e-07 - accuracy: 1.0000 - val_loss: 3.8258e-08 - val_accuracy: 1.0000\n",
            "Epoch 32/200\n",
            "88/88 [==============================] - 0s 1ms/step - loss: 1.4610e-07 - accuracy: 1.0000 - val_loss: 2.8132e-08 - val_accuracy: 1.0000\n",
            "Epoch 33/200\n",
            "88/88 [==============================] - 0s 1ms/step - loss: 9.4613e-08 - accuracy: 1.0000 - val_loss: 3.7266e-08 - val_accuracy: 1.0000\n",
            "Epoch 34/200\n",
            "88/88 [==============================] - 0s 1ms/step - loss: 7.7091e-08 - accuracy: 1.0000 - val_loss: 1.2553e-08 - val_accuracy: 1.0000\n",
            "Epoch 35/200\n",
            "88/88 [==============================] - 0s 1ms/step - loss: 4.4555e-08 - accuracy: 1.0000 - val_loss: 9.8309e-09 - val_accuracy: 1.0000\n",
            "Epoch 36/200\n",
            "88/88 [==============================] - 0s 1ms/step - loss: 3.7872e-08 - accuracy: 1.0000 - val_loss: 8.3542e-09 - val_accuracy: 1.0000\n",
            "Epoch 37/200\n",
            "88/88 [==============================] - 0s 1ms/step - loss: 2.3897e-08 - accuracy: 1.0000 - val_loss: 5.7529e-09 - val_accuracy: 1.0000\n",
            "Epoch 38/200\n",
            "88/88 [==============================] - 0s 1ms/step - loss: 1.9039e-08 - accuracy: 1.0000 - val_loss: 4.2649e-09 - val_accuracy: 1.0000\n",
            "Epoch 39/200\n",
            "88/88 [==============================] - 0s 1ms/step - loss: 1.2980e-08 - accuracy: 1.0000 - val_loss: 2.9845e-09 - val_accuracy: 1.0000\n",
            "Epoch 40/200\n",
            "88/88 [==============================] - 0s 1ms/step - loss: 1.0196e-08 - accuracy: 1.0000 - val_loss: 2.9120e-09 - val_accuracy: 1.0000\n",
            "Epoch 41/200\n",
            "88/88 [==============================] - 0s 1ms/step - loss: 7.5745e-09 - accuracy: 1.0000 - val_loss: 2.0966e-09 - val_accuracy: 1.0000\n",
            "Epoch 42/200\n",
            "88/88 [==============================] - 0s 1ms/step - loss: 6.2687e-09 - accuracy: 1.0000 - val_loss: 1.9347e-09 - val_accuracy: 1.0000\n",
            "Epoch 43/200\n",
            "88/88 [==============================] - 0s 1ms/step - loss: 4.6790e-09 - accuracy: 1.0000 - val_loss: 1.6751e-09 - val_accuracy: 1.0000\n",
            "Epoch 44/200\n",
            "88/88 [==============================] - 0s 1ms/step - loss: 4.0930e-09 - accuracy: 1.0000 - val_loss: 1.3599e-09 - val_accuracy: 1.0000\n",
            "Epoch 45/200\n",
            "88/88 [==============================] - 0s 1ms/step - loss: 3.1345e-09 - accuracy: 1.0000 - val_loss: 1.1424e-09 - val_accuracy: 1.0000\n",
            "Epoch 46/200\n",
            "88/88 [==============================] - 0s 1ms/step - loss: 2.6528e-09 - accuracy: 1.0000 - val_loss: 9.4849e-10 - val_accuracy: 1.0000\n",
            "Epoch 47/200\n",
            "88/88 [==============================] - 0s 2ms/step - loss: 2.3283e-09 - accuracy: 1.0000 - val_loss: 8.6079e-10 - val_accuracy: 1.0000\n",
            "Epoch 48/200\n",
            "88/88 [==============================] - 0s 1ms/step - loss: 2.0202e-09 - accuracy: 1.0000 - val_loss: 7.7061e-10 - val_accuracy: 1.0000\n",
            "Epoch 49/200\n",
            "88/88 [==============================] - 0s 2ms/step - loss: 1.7852e-09 - accuracy: 1.0000 - val_loss: 8.0322e-10 - val_accuracy: 1.0000\n",
            "Epoch 50/200\n",
            "88/88 [==============================] - 0s 2ms/step - loss: 1.4421e-09 - accuracy: 1.0000 - val_loss: 6.5771e-10 - val_accuracy: 1.0000\n",
            "Epoch 51/200\n",
            "88/88 [==============================] - 0s 1ms/step - loss: 1.3329e-09 - accuracy: 1.0000 - val_loss: 5.8183e-10 - val_accuracy: 1.0000\n",
            "Epoch 52/200\n",
            "88/88 [==============================] - 0s 1ms/step - loss: 1.2433e-09 - accuracy: 1.0000 - val_loss: 5.9793e-10 - val_accuracy: 1.0000\n",
            "Epoch 53/200\n",
            "88/88 [==============================] - 0s 1ms/step - loss: 1.0941e-09 - accuracy: 1.0000 - val_loss: 5.1801e-10 - val_accuracy: 1.0000\n",
            "Epoch 54/200\n",
            "88/88 [==============================] - 0s 1ms/step - loss: 1.0314e-09 - accuracy: 1.0000 - val_loss: 4.7942e-10 - val_accuracy: 1.0000\n",
            "Epoch 55/200\n",
            "88/88 [==============================] - 0s 1ms/step - loss: 9.4708e-10 - accuracy: 1.0000 - val_loss: 4.4398e-10 - val_accuracy: 1.0000\n",
            "Epoch 56/200\n",
            "88/88 [==============================] - 0s 1ms/step - loss: 8.6934e-10 - accuracy: 1.0000 - val_loss: 4.1460e-10 - val_accuracy: 1.0000\n",
            "Epoch 57/200\n",
            "88/88 [==============================] - 0s 1ms/step - loss: 8.3642e-10 - accuracy: 1.0000 - val_loss: 3.9483e-10 - val_accuracy: 1.0000\n",
            "Epoch 58/200\n",
            "88/88 [==============================] - 0s 1ms/step - loss: 7.9337e-10 - accuracy: 1.0000 - val_loss: 3.8324e-10 - val_accuracy: 1.0000\n",
            "Epoch 59/200\n",
            "88/88 [==============================] - 0s 1ms/step - loss: 7.4853e-10 - accuracy: 1.0000 - val_loss: 3.6461e-10 - val_accuracy: 1.0000\n",
            "Epoch 60/200\n",
            "88/88 [==============================] - 0s 1ms/step - loss: 7.0098e-10 - accuracy: 1.0000 - val_loss: 3.3921e-10 - val_accuracy: 1.0000\n",
            "Epoch 61/200\n",
            "88/88 [==============================] - 0s 1ms/step - loss: 6.8957e-10 - accuracy: 1.0000 - val_loss: 3.4391e-10 - val_accuracy: 1.0000\n",
            "Epoch 62/200\n",
            "88/88 [==============================] - 0s 1ms/step - loss: 5.8557e-10 - accuracy: 1.0000 - val_loss: 3.2690e-10 - val_accuracy: 1.0000\n",
            "Epoch 63/200\n",
            "88/88 [==============================] - 0s 1ms/step - loss: 5.5335e-10 - accuracy: 1.0000 - val_loss: 3.0763e-10 - val_accuracy: 1.0000\n",
            "Epoch 64/200\n",
            "88/88 [==============================] - 0s 1ms/step - loss: 5.2790e-10 - accuracy: 1.0000 - val_loss: 2.9242e-10 - val_accuracy: 1.0000\n",
            "Epoch 65/200\n",
            "88/88 [==============================] - 0s 1ms/step - loss: 5.0997e-10 - accuracy: 1.0000 - val_loss: 2.7982e-10 - val_accuracy: 1.0000\n",
            "Epoch 66/200\n",
            "88/88 [==============================] - 0s 1ms/step - loss: 4.8553e-10 - accuracy: 1.0000 - val_loss: 2.6847e-10 - val_accuracy: 1.0000\n",
            "Epoch 67/200\n",
            "88/88 [==============================] - 0s 2ms/step - loss: 4.7537e-10 - accuracy: 1.0000 - val_loss: 2.5252e-10 - val_accuracy: 1.0000\n",
            "Epoch 68/200\n",
            "88/88 [==============================] - 0s 1ms/step - loss: 4.6635e-10 - accuracy: 1.0000 - val_loss: 2.4014e-10 - val_accuracy: 1.0000\n",
            "Epoch 69/200\n",
            "88/88 [==============================] - 0s 1ms/step - loss: 4.5684e-10 - accuracy: 1.0000 - val_loss: 2.3446e-10 - val_accuracy: 1.0000\n",
            "Epoch 70/200\n",
            "88/88 [==============================] - 0s 1ms/step - loss: 4.4213e-10 - accuracy: 1.0000 - val_loss: 2.2463e-10 - val_accuracy: 1.0000\n",
            "Epoch 71/200\n",
            "88/88 [==============================] - 0s 1ms/step - loss: 4.8189e-10 - accuracy: 1.0000 - val_loss: 2.3698e-10 - val_accuracy: 1.0000\n",
            "Epoch 72/200\n",
            "88/88 [==============================] - 0s 1ms/step - loss: 3.9291e-10 - accuracy: 1.0000 - val_loss: 2.2078e-10 - val_accuracy: 1.0000\n",
            "Epoch 73/200\n",
            "88/88 [==============================] - 0s 1ms/step - loss: 3.8067e-10 - accuracy: 1.0000 - val_loss: 2.1245e-10 - val_accuracy: 1.0000\n",
            "Epoch 74/200\n",
            "88/88 [==============================] - 0s 1ms/step - loss: 3.6906e-10 - accuracy: 1.0000 - val_loss: 2.0558e-10 - val_accuracy: 1.0000\n",
            "Epoch 75/200\n",
            "88/88 [==============================] - 0s 2ms/step - loss: 3.6150e-10 - accuracy: 1.0000 - val_loss: 1.9944e-10 - val_accuracy: 1.0000\n",
            "Epoch 76/200\n",
            "88/88 [==============================] - 0s 1ms/step - loss: 3.4753e-10 - accuracy: 1.0000 - val_loss: 1.9031e-10 - val_accuracy: 1.0000\n",
            "Epoch 77/200\n",
            "88/88 [==============================] - 0s 1ms/step - loss: 3.4553e-10 - accuracy: 1.0000 - val_loss: 1.8564e-10 - val_accuracy: 1.0000\n",
            "Epoch 78/200\n",
            "88/88 [==============================] - 0s 1ms/step - loss: 3.3720e-10 - accuracy: 1.0000 - val_loss: 1.7813e-10 - val_accuracy: 1.0000\n",
            "Epoch 79/200\n",
            "88/88 [==============================] - 0s 1ms/step - loss: 3.3551e-10 - accuracy: 1.0000 - val_loss: 1.7256e-10 - val_accuracy: 1.0000\n",
            "Epoch 80/200\n",
            "88/88 [==============================] - 0s 1ms/step - loss: 3.2920e-10 - accuracy: 1.0000 - val_loss: 1.6776e-10 - val_accuracy: 1.0000\n",
            "Epoch 81/200\n",
            "88/88 [==============================] - 0s 1ms/step - loss: 3.4136e-10 - accuracy: 1.0000 - val_loss: 1.7749e-10 - val_accuracy: 1.0000\n",
            "Epoch 82/200\n",
            "88/88 [==============================] - 0s 1ms/step - loss: 3.0168e-10 - accuracy: 1.0000 - val_loss: 1.6909e-10 - val_accuracy: 1.0000\n",
            "Epoch 83/200\n",
            "88/88 [==============================] - 0s 1ms/step - loss: 2.9213e-10 - accuracy: 1.0000 - val_loss: 1.6272e-10 - val_accuracy: 1.0000\n",
            "Epoch 84/200\n",
            "88/88 [==============================] - 0s 2ms/step - loss: 2.8703e-10 - accuracy: 1.0000 - val_loss: 1.5726e-10 - val_accuracy: 1.0000\n",
            "Epoch 85/200\n",
            "88/88 [==============================] - 0s 2ms/step - loss: 2.8044e-10 - accuracy: 1.0000 - val_loss: 1.5202e-10 - val_accuracy: 1.0000\n",
            "Epoch 86/200\n",
            "88/88 [==============================] - 0s 2ms/step - loss: 2.7636e-10 - accuracy: 1.0000 - val_loss: 1.4814e-10 - val_accuracy: 1.0000\n",
            "Epoch 87/200\n",
            "88/88 [==============================] - 0s 2ms/step - loss: 2.7524e-10 - accuracy: 1.0000 - val_loss: 1.4495e-10 - val_accuracy: 1.0000\n",
            "Epoch 88/200\n",
            "88/88 [==============================] - 0s 1ms/step - loss: 2.7419e-10 - accuracy: 1.0000 - val_loss: 1.4260e-10 - val_accuracy: 1.0000\n",
            "Epoch 89/200\n",
            "88/88 [==============================] - 0s 1ms/step - loss: 2.7008e-10 - accuracy: 1.0000 - val_loss: 1.3967e-10 - val_accuracy: 1.0000\n",
            "Epoch 90/200\n",
            "88/88 [==============================] - 0s 1ms/step - loss: 2.6132e-10 - accuracy: 1.0000 - val_loss: 1.3606e-10 - val_accuracy: 1.0000\n",
            "Epoch 91/200\n",
            "88/88 [==============================] - 0s 1ms/step - loss: 2.6267e-10 - accuracy: 1.0000 - val_loss: 1.3356e-10 - val_accuracy: 1.0000\n",
            "Epoch 92/200\n",
            "88/88 [==============================] - 0s 2ms/step - loss: 2.6728e-10 - accuracy: 1.0000 - val_loss: 1.3124e-10 - val_accuracy: 1.0000\n",
            "Epoch 93/200\n",
            "88/88 [==============================] - 0s 1ms/step - loss: 2.6024e-10 - accuracy: 1.0000 - val_loss: 1.2927e-10 - val_accuracy: 1.0000\n",
            "Epoch 94/200\n",
            "88/88 [==============================] - 0s 1ms/step - loss: 2.6821e-10 - accuracy: 1.0000 - val_loss: 1.2742e-10 - val_accuracy: 1.0000\n",
            "Epoch 95/200\n",
            "88/88 [==============================] - 0s 1ms/step - loss: 2.5655e-10 - accuracy: 1.0000 - val_loss: 1.2480e-10 - val_accuracy: 1.0000\n",
            "Epoch 96/200\n",
            "88/88 [==============================] - 0s 1ms/step - loss: 2.5107e-10 - accuracy: 1.0000 - val_loss: 1.2306e-10 - val_accuracy: 1.0000\n",
            "Epoch 97/200\n",
            "88/88 [==============================] - 0s 1ms/step - loss: 2.5857e-10 - accuracy: 1.0000 - val_loss: 1.2080e-10 - val_accuracy: 1.0000\n",
            "Epoch 98/200\n",
            "88/88 [==============================] - 0s 1ms/step - loss: 2.5417e-10 - accuracy: 1.0000 - val_loss: 1.1930e-10 - val_accuracy: 1.0000\n",
            "Epoch 99/200\n",
            "88/88 [==============================] - 0s 1ms/step - loss: 2.5091e-10 - accuracy: 1.0000 - val_loss: 1.1716e-10 - val_accuracy: 1.0000\n",
            "Epoch 100/200\n",
            "88/88 [==============================] - 0s 1ms/step - loss: 2.6897e-10 - accuracy: 1.0000 - val_loss: 1.2339e-10 - val_accuracy: 1.0000\n",
            "Epoch 101/200\n",
            "88/88 [==============================] - 0s 1ms/step - loss: 2.1558e-10 - accuracy: 1.0000 - val_loss: 1.1846e-10 - val_accuracy: 1.0000\n",
            "Epoch 102/200\n",
            "88/88 [==============================] - 0s 1ms/step - loss: 2.1032e-10 - accuracy: 1.0000 - val_loss: 1.1496e-10 - val_accuracy: 1.0000\n",
            "Epoch 103/200\n",
            "88/88 [==============================] - 0s 1ms/step - loss: 2.0724e-10 - accuracy: 1.0000 - val_loss: 1.1188e-10 - val_accuracy: 1.0000\n",
            "Epoch 104/200\n",
            "88/88 [==============================] - 0s 1ms/step - loss: 2.0236e-10 - accuracy: 1.0000 - val_loss: 1.0868e-10 - val_accuracy: 1.0000\n",
            "Epoch 105/200\n",
            "88/88 [==============================] - 0s 1ms/step - loss: 2.0059e-10 - accuracy: 1.0000 - val_loss: 1.0620e-10 - val_accuracy: 1.0000\n",
            "Epoch 106/200\n",
            "88/88 [==============================] - 0s 2ms/step - loss: 1.9699e-10 - accuracy: 1.0000 - val_loss: 1.0359e-10 - val_accuracy: 1.0000\n",
            "Epoch 107/200\n",
            "88/88 [==============================] - 0s 1ms/step - loss: 1.9693e-10 - accuracy: 1.0000 - val_loss: 1.0337e-10 - val_accuracy: 1.0000\n",
            "Epoch 108/200\n",
            "88/88 [==============================] - 0s 1ms/step - loss: 1.9207e-10 - accuracy: 1.0000 - val_loss: 1.0089e-10 - val_accuracy: 1.0000\n",
            "Epoch 109/200\n",
            "88/88 [==============================] - 0s 1ms/step - loss: 1.9418e-10 - accuracy: 1.0000 - val_loss: 9.9340e-11 - val_accuracy: 1.0000\n",
            "Epoch 110/200\n",
            "88/88 [==============================] - 0s 1ms/step - loss: 1.9142e-10 - accuracy: 1.0000 - val_loss: 9.7181e-11 - val_accuracy: 1.0000\n",
            "Epoch 111/200\n",
            "88/88 [==============================] - 0s 1ms/step - loss: 1.8686e-10 - accuracy: 1.0000 - val_loss: 9.5642e-11 - val_accuracy: 1.0000\n",
            "Epoch 112/200\n",
            "88/88 [==============================] - 0s 1ms/step - loss: 1.8780e-10 - accuracy: 1.0000 - val_loss: 9.5782e-11 - val_accuracy: 1.0000\n",
            "Epoch 113/200\n",
            "88/88 [==============================] - 0s 1ms/step - loss: 1.8612e-10 - accuracy: 1.0000 - val_loss: 9.3804e-11 - val_accuracy: 1.0000\n",
            "Epoch 114/200\n",
            "88/88 [==============================] - 0s 2ms/step - loss: 1.8447e-10 - accuracy: 1.0000 - val_loss: 9.1932e-11 - val_accuracy: 1.0000\n",
            "Epoch 115/200\n",
            "88/88 [==============================] - 0s 1ms/step - loss: 1.8129e-10 - accuracy: 1.0000 - val_loss: 9.0208e-11 - val_accuracy: 1.0000\n",
            "Epoch 116/200\n",
            "88/88 [==============================] - 0s 2ms/step - loss: 1.8288e-10 - accuracy: 1.0000 - val_loss: 8.8569e-11 - val_accuracy: 1.0000\n",
            "Epoch 117/200\n",
            "88/88 [==============================] - 0s 2ms/step - loss: 1.8418e-10 - accuracy: 1.0000 - val_loss: 8.7508e-11 - val_accuracy: 1.0000\n",
            "Epoch 118/200\n",
            "88/88 [==============================] - 0s 1ms/step - loss: 1.7982e-10 - accuracy: 1.0000 - val_loss: 8.6414e-11 - val_accuracy: 1.0000\n",
            "Epoch 119/200\n",
            "88/88 [==============================] - 0s 1ms/step - loss: 1.8293e-10 - accuracy: 1.0000 - val_loss: 8.6230e-11 - val_accuracy: 1.0000\n",
            "Epoch 120/200\n",
            "88/88 [==============================] - 0s 1ms/step - loss: 1.8004e-10 - accuracy: 1.0000 - val_loss: 8.4695e-11 - val_accuracy: 1.0000\n",
            "Epoch 121/200\n",
            "88/88 [==============================] - 0s 2ms/step - loss: 1.7781e-10 - accuracy: 1.0000 - val_loss: 8.3733e-11 - val_accuracy: 1.0000\n",
            "Epoch 122/200\n",
            "88/88 [==============================] - 0s 1ms/step - loss: 1.7649e-10 - accuracy: 1.0000 - val_loss: 8.2318e-11 - val_accuracy: 1.0000\n",
            "Epoch 123/200\n",
            "88/88 [==============================] - 0s 1ms/step - loss: 1.8135e-10 - accuracy: 1.0000 - val_loss: 8.0977e-11 - val_accuracy: 1.0000\n",
            "Epoch 124/200\n",
            "88/88 [==============================] - 0s 1ms/step - loss: 1.8102e-10 - accuracy: 1.0000 - val_loss: 8.0895e-11 - val_accuracy: 1.0000\n",
            "Epoch 125/200\n",
            "88/88 [==============================] - 0s 2ms/step - loss: 1.7379e-10 - accuracy: 1.0000 - val_loss: 7.9514e-11 - val_accuracy: 1.0000\n",
            "Epoch 126/200\n",
            "88/88 [==============================] - 0s 1ms/step - loss: 1.7631e-10 - accuracy: 1.0000 - val_loss: 7.8251e-11 - val_accuracy: 1.0000\n",
            "Epoch 127/200\n",
            "88/88 [==============================] - 0s 1ms/step - loss: 1.7435e-10 - accuracy: 1.0000 - val_loss: 7.7191e-11 - val_accuracy: 1.0000\n",
            "Epoch 128/200\n",
            "88/88 [==============================] - 0s 1ms/step - loss: 1.9277e-10 - accuracy: 1.0000 - val_loss: 8.1615e-11 - val_accuracy: 1.0000\n",
            "Epoch 129/200\n",
            "88/88 [==============================] - 0s 1ms/step - loss: 1.4469e-10 - accuracy: 1.0000 - val_loss: 7.9167e-11 - val_accuracy: 1.0000\n",
            "Epoch 130/200\n",
            "88/88 [==============================] - 0s 1ms/step - loss: 1.4312e-10 - accuracy: 1.0000 - val_loss: 7.7214e-11 - val_accuracy: 1.0000\n",
            "Epoch 131/200\n",
            "88/88 [==============================] - 0s 2ms/step - loss: 1.4232e-10 - accuracy: 1.0000 - val_loss: 7.5501e-11 - val_accuracy: 1.0000\n",
            "Epoch 132/200\n",
            "88/88 [==============================] - 0s 2ms/step - loss: 1.4177e-10 - accuracy: 1.0000 - val_loss: 7.4111e-11 - val_accuracy: 1.0000\n",
            "Epoch 133/200\n",
            "88/88 [==============================] - 0s 1ms/step - loss: 1.4301e-10 - accuracy: 1.0000 - val_loss: 7.4066e-11 - val_accuracy: 1.0000\n",
            "Epoch 134/200\n",
            "88/88 [==============================] - 0s 1ms/step - loss: 1.4100e-10 - accuracy: 1.0000 - val_loss: 7.2812e-11 - val_accuracy: 1.0000\n",
            "Epoch 135/200\n",
            "88/88 [==============================] - 0s 1ms/step - loss: 1.4082e-10 - accuracy: 1.0000 - val_loss: 7.1727e-11 - val_accuracy: 1.0000\n",
            "Epoch 136/200\n",
            "88/88 [==============================] - 0s 2ms/step - loss: 1.4210e-10 - accuracy: 1.0000 - val_loss: 7.0777e-11 - val_accuracy: 1.0000\n",
            "Epoch 137/200\n",
            "88/88 [==============================] - 0s 2ms/step - loss: 1.4541e-10 - accuracy: 1.0000 - val_loss: 7.1448e-11 - val_accuracy: 1.0000\n",
            "Epoch 138/200\n",
            "88/88 [==============================] - 0s 2ms/step - loss: 1.4277e-10 - accuracy: 1.0000 - val_loss: 7.0498e-11 - val_accuracy: 1.0000\n",
            "Epoch 139/200\n",
            "88/88 [==============================] - 0s 2ms/step - loss: 1.4562e-10 - accuracy: 1.0000 - val_loss: 6.9675e-11 - val_accuracy: 1.0000\n",
            "Epoch 140/200\n",
            "88/88 [==============================] - 0s 2ms/step - loss: 1.4486e-10 - accuracy: 1.0000 - val_loss: 7.0409e-11 - val_accuracy: 1.0000\n",
            "Epoch 141/200\n",
            "88/88 [==============================] - 0s 2ms/step - loss: 1.4312e-10 - accuracy: 1.0000 - val_loss: 6.9574e-11 - val_accuracy: 1.0000\n",
            "Epoch 142/200\n",
            "88/88 [==============================] - 0s 2ms/step - loss: 1.4672e-10 - accuracy: 1.0000 - val_loss: 6.8846e-11 - val_accuracy: 1.0000\n",
            "Epoch 143/200\n",
            "88/88 [==============================] - 0s 2ms/step - loss: 1.4939e-10 - accuracy: 1.0000 - val_loss: 6.8200e-11 - val_accuracy: 1.0000\n",
            "Epoch 144/200\n",
            "88/88 [==============================] - 0s 2ms/step - loss: 1.5407e-10 - accuracy: 1.0000 - val_loss: 6.7636e-11 - val_accuracy: 1.0000\n",
            "Epoch 145/200\n",
            "88/88 [==============================] - 0s 2ms/step - loss: 1.5866e-10 - accuracy: 1.0000 - val_loss: 6.7150e-11 - val_accuracy: 1.0000\n",
            "Epoch 146/200\n",
            "88/88 [==============================] - 0s 2ms/step - loss: 1.5674e-10 - accuracy: 1.0000 - val_loss: 6.7835e-11 - val_accuracy: 1.0000\n",
            "Epoch 147/200\n",
            "88/88 [==============================] - 0s 2ms/step - loss: 1.5786e-10 - accuracy: 1.0000 - val_loss: 6.7316e-11 - val_accuracy: 1.0000\n",
            "Epoch 148/200\n",
            "88/88 [==============================] - 0s 2ms/step - loss: 1.6203e-10 - accuracy: 1.0000 - val_loss: 6.6873e-11 - val_accuracy: 1.0000\n",
            "Epoch 149/200\n",
            "88/88 [==============================] - 0s 2ms/step - loss: 1.6950e-10 - accuracy: 1.0000 - val_loss: 6.6492e-11 - val_accuracy: 1.0000\n",
            "Epoch 150/200\n",
            "88/88 [==============================] - 0s 2ms/step - loss: 1.7837e-10 - accuracy: 1.0000 - val_loss: 7.0546e-11 - val_accuracy: 1.0000\n",
            "Epoch 151/200\n",
            "88/88 [==============================] - 0s 2ms/step - loss: 1.3577e-10 - accuracy: 1.0000 - val_loss: 6.9433e-11 - val_accuracy: 1.0000\n",
            "Epoch 152/200\n",
            "88/88 [==============================] - 0s 2ms/step - loss: 1.3501e-10 - accuracy: 1.0000 - val_loss: 6.8413e-11 - val_accuracy: 1.0000\n",
            "Epoch 153/200\n",
            "88/88 [==============================] - 0s 2ms/step - loss: 1.3466e-10 - accuracy: 1.0000 - val_loss: 6.7498e-11 - val_accuracy: 1.0000\n",
            "Epoch 154/200\n",
            "88/88 [==============================] - 0s 2ms/step - loss: 1.3381e-10 - accuracy: 1.0000 - val_loss: 6.6675e-11 - val_accuracy: 1.0000\n",
            "Epoch 155/200\n",
            "88/88 [==============================] - 0s 2ms/step - loss: 1.3394e-10 - accuracy: 1.0000 - val_loss: 6.5927e-11 - val_accuracy: 1.0000\n",
            "Epoch 156/200\n",
            "88/88 [==============================] - 0s 2ms/step - loss: 1.3510e-10 - accuracy: 1.0000 - val_loss: 6.5249e-11 - val_accuracy: 1.0000\n",
            "Epoch 157/200\n",
            "88/88 [==============================] - 0s 2ms/step - loss: 1.3495e-10 - accuracy: 1.0000 - val_loss: 6.4601e-11 - val_accuracy: 1.0000\n",
            "Epoch 158/200\n",
            "88/88 [==============================] - 0s 2ms/step - loss: 1.3619e-10 - accuracy: 1.0000 - val_loss: 6.4039e-11 - val_accuracy: 1.0000\n",
            "Epoch 159/200\n",
            "88/88 [==============================] - 0s 2ms/step - loss: 1.3729e-10 - accuracy: 1.0000 - val_loss: 6.3524e-11 - val_accuracy: 1.0000\n",
            "Epoch 160/200\n",
            "88/88 [==============================] - 0s 2ms/step - loss: 1.3812e-10 - accuracy: 1.0000 - val_loss: 6.3051e-11 - val_accuracy: 1.0000\n",
            "Epoch 161/200\n",
            "88/88 [==============================] - 0s 2ms/step - loss: 1.3949e-10 - accuracy: 1.0000 - val_loss: 6.2616e-11 - val_accuracy: 1.0000\n",
            "Epoch 162/200\n",
            "88/88 [==============================] - 0s 2ms/step - loss: 1.4165e-10 - accuracy: 1.0000 - val_loss: 6.3502e-11 - val_accuracy: 1.0000\n",
            "Epoch 163/200\n",
            "88/88 [==============================] - 0s 2ms/step - loss: 1.3834e-10 - accuracy: 1.0000 - val_loss: 6.3036e-11 - val_accuracy: 1.0000\n",
            "Epoch 164/200\n",
            "88/88 [==============================] - 0s 2ms/step - loss: 1.3966e-10 - accuracy: 1.0000 - val_loss: 6.2617e-11 - val_accuracy: 1.0000\n",
            "Epoch 165/200\n",
            "88/88 [==============================] - 0s 2ms/step - loss: 1.4064e-10 - accuracy: 1.0000 - val_loss: 6.2230e-11 - val_accuracy: 1.0000\n",
            "Epoch 166/200\n",
            "88/88 [==============================] - 0s 2ms/step - loss: 1.4260e-10 - accuracy: 1.0000 - val_loss: 6.1882e-11 - val_accuracy: 1.0000\n",
            "Epoch 167/200\n",
            "88/88 [==============================] - 0s 2ms/step - loss: 1.4610e-10 - accuracy: 1.0000 - val_loss: 6.1565e-11 - val_accuracy: 1.0000\n",
            "Epoch 168/200\n",
            "88/88 [==============================] - 0s 2ms/step - loss: 1.4714e-10 - accuracy: 1.0000 - val_loss: 6.1278e-11 - val_accuracy: 1.0000\n",
            "Epoch 169/200\n",
            "88/88 [==============================] - 0s 2ms/step - loss: 1.4574e-10 - accuracy: 1.0000 - val_loss: 6.2249e-11 - val_accuracy: 1.0000\n",
            "Epoch 170/200\n",
            "88/88 [==============================] - 0s 2ms/step - loss: 1.4567e-10 - accuracy: 1.0000 - val_loss: 6.1924e-11 - val_accuracy: 1.0000\n",
            "Epoch 171/200\n",
            "88/88 [==============================] - 0s 2ms/step - loss: 1.4846e-10 - accuracy: 1.0000 - val_loss: 6.1635e-11 - val_accuracy: 1.0000\n",
            "Epoch 172/200\n",
            "88/88 [==============================] - 0s 2ms/step - loss: 1.5118e-10 - accuracy: 1.0000 - val_loss: 6.1374e-11 - val_accuracy: 1.0000\n",
            "Epoch 173/200\n",
            "88/88 [==============================] - 0s 2ms/step - loss: 1.5414e-10 - accuracy: 1.0000 - val_loss: 6.1143e-11 - val_accuracy: 1.0000\n",
            "Epoch 174/200\n",
            "88/88 [==============================] - 0s 2ms/step - loss: 1.5789e-10 - accuracy: 1.0000 - val_loss: 6.0940e-11 - val_accuracy: 1.0000\n",
            "Epoch 175/200\n",
            "88/88 [==============================] - 0s 2ms/step - loss: 1.6130e-10 - accuracy: 1.0000 - val_loss: 6.0705e-11 - val_accuracy: 1.0000\n",
            "Epoch 176/200\n",
            "88/88 [==============================] - 0s 2ms/step - loss: 1.6427e-10 - accuracy: 1.0000 - val_loss: 6.1661e-11 - val_accuracy: 1.0000\n",
            "Epoch 177/200\n",
            "88/88 [==============================] - 0s 2ms/step - loss: 1.5448e-10 - accuracy: 1.0000 - val_loss: 6.1437e-11 - val_accuracy: 1.0000\n",
            "Epoch 178/200\n",
            "88/88 [==============================] - 0s 2ms/step - loss: 1.5824e-10 - accuracy: 1.0000 - val_loss: 6.1243e-11 - val_accuracy: 1.0000\n",
            "Epoch 179/200\n",
            "88/88 [==============================] - 0s 2ms/step - loss: 1.6554e-10 - accuracy: 1.0000 - val_loss: 6.1080e-11 - val_accuracy: 1.0000\n",
            "Epoch 180/200\n",
            "88/88 [==============================] - 0s 2ms/step - loss: 1.6866e-10 - accuracy: 1.0000 - val_loss: 6.0946e-11 - val_accuracy: 1.0000\n",
            "Epoch 181/200\n",
            "88/88 [==============================] - 0s 2ms/step - loss: 1.7366e-10 - accuracy: 1.0000 - val_loss: 6.0859e-11 - val_accuracy: 1.0000\n",
            "Epoch 182/200\n",
            "88/88 [==============================] - 0s 2ms/step - loss: 1.7781e-10 - accuracy: 1.0000 - val_loss: 6.4320e-11 - val_accuracy: 1.0000\n",
            "Epoch 183/200\n",
            "88/88 [==============================] - 0s 2ms/step - loss: 1.3456e-10 - accuracy: 1.0000 - val_loss: 6.3679e-11 - val_accuracy: 1.0000\n",
            "Epoch 184/200\n",
            "88/88 [==============================] - 0s 2ms/step - loss: 1.3451e-10 - accuracy: 1.0000 - val_loss: 6.3084e-11 - val_accuracy: 1.0000\n",
            "Epoch 185/200\n",
            "88/88 [==============================] - 0s 2ms/step - loss: 1.3456e-10 - accuracy: 1.0000 - val_loss: 6.2501e-11 - val_accuracy: 1.0000\n",
            "Epoch 186/200\n",
            "88/88 [==============================] - 0s 2ms/step - loss: 1.3434e-10 - accuracy: 1.0000 - val_loss: 6.1998e-11 - val_accuracy: 1.0000\n",
            "Epoch 187/200\n",
            "88/88 [==============================] - 0s 2ms/step - loss: 1.3495e-10 - accuracy: 1.0000 - val_loss: 6.1538e-11 - val_accuracy: 1.0000\n",
            "Epoch 188/200\n",
            "88/88 [==============================] - 0s 2ms/step - loss: 1.3487e-10 - accuracy: 1.0000 - val_loss: 6.1113e-11 - val_accuracy: 1.0000\n",
            "Epoch 189/200\n",
            "88/88 [==============================] - 0s 2ms/step - loss: 1.3601e-10 - accuracy: 1.0000 - val_loss: 6.0720e-11 - val_accuracy: 1.0000\n",
            "Epoch 190/200\n",
            "88/88 [==============================] - 0s 2ms/step - loss: 1.3590e-10 - accuracy: 1.0000 - val_loss: 6.0357e-11 - val_accuracy: 1.0000\n",
            "Epoch 191/200\n",
            "88/88 [==============================] - 0s 2ms/step - loss: 1.3611e-10 - accuracy: 1.0000 - val_loss: 6.0023e-11 - val_accuracy: 1.0000\n",
            "Epoch 192/200\n",
            "88/88 [==============================] - 0s 2ms/step - loss: 1.3716e-10 - accuracy: 1.0000 - val_loss: 5.9715e-11 - val_accuracy: 1.0000\n",
            "Epoch 193/200\n",
            "88/88 [==============================] - 0s 2ms/step - loss: 1.3790e-10 - accuracy: 1.0000 - val_loss: 5.9430e-11 - val_accuracy: 1.0000\n",
            "Epoch 194/200\n",
            "88/88 [==============================] - 0s 2ms/step - loss: 1.3899e-10 - accuracy: 1.0000 - val_loss: 5.9166e-11 - val_accuracy: 1.0000\n",
            "Epoch 195/200\n",
            "88/88 [==============================] - 0s 2ms/step - loss: 1.3984e-10 - accuracy: 1.0000 - val_loss: 5.8922e-11 - val_accuracy: 1.0000\n",
            "Epoch 196/200\n",
            "88/88 [==============================] - 0s 2ms/step - loss: 1.4169e-10 - accuracy: 1.0000 - val_loss: 5.8698e-11 - val_accuracy: 1.0000\n",
            "Epoch 197/200\n",
            "88/88 [==============================] - 0s 2ms/step - loss: 1.4264e-10 - accuracy: 1.0000 - val_loss: 5.8495e-11 - val_accuracy: 1.0000\n",
            "Epoch 198/200\n",
            "88/88 [==============================] - 0s 2ms/step - loss: 1.4342e-10 - accuracy: 1.0000 - val_loss: 5.8307e-11 - val_accuracy: 1.0000\n",
            "Epoch 199/200\n",
            "88/88 [==============================] - 0s 2ms/step - loss: 1.4545e-10 - accuracy: 1.0000 - val_loss: 5.8137e-11 - val_accuracy: 1.0000\n",
            "Epoch 200/200\n",
            "88/88 [==============================] - 0s 2ms/step - loss: 1.4919e-10 - accuracy: 1.0000 - val_loss: 4.4956e-11 - val_accuracy: 1.0000\n"
          ],
          "name": "stdout"
        }
      ]
    },
    {
      "cell_type": "markdown",
      "metadata": {
        "id": "u1n_AYrbl-qD"
      },
      "source": [
        "**Model Evaluation**\n",
        "\n"
      ]
    },
    {
      "cell_type": "code",
      "metadata": {
        "id": "DJXwXJ3VmS8t"
      },
      "source": [
        "predictions = model.predict(test_data)"
      ],
      "execution_count": null,
      "outputs": []
    },
    {
      "cell_type": "code",
      "metadata": {
        "id": "Hkx_yvy0m5Iv"
      },
      "source": [
        "predictions = [int(np.round(x)) for x in predictions]"
      ],
      "execution_count": null,
      "outputs": []
    },
    {
      "cell_type": "code",
      "metadata": {
        "id": "YHrqwZXp_IyM"
      },
      "source": [
        "tf = tf.constant(predictions)"
      ],
      "execution_count": null,
      "outputs": []
    },
    {
      "cell_type": "code",
      "metadata": {
        "id": "5L7puxyHAjK8",
        "outputId": "76119bc2-2074-41c8-edd2-c1b9ba8e62bf",
        "colab": {
          "base_uri": "https://localhost:8080/"
        }
      },
      "source": [
        "tf"
      ],
      "execution_count": null,
      "outputs": [
        {
          "output_type": "execute_result",
          "data": {
            "text/plain": [
              "<tf.Tensor: shape=(275,), dtype=int32, numpy=\n",
              "array([1, 1, 0, 0, 0, 1, 1, 0, 1, 1, 0, 1, 0, 1, 0, 0, 0, 1, 0, 1, 1, 1,\n",
              "       0, 0, 0, 1, 0, 0, 1, 1, 1, 1, 0, 0, 0, 1, 1, 0, 0, 1, 1, 0, 1, 0,\n",
              "       1, 1, 1, 1, 0, 0, 1, 0, 1, 0, 1, 1, 1, 0, 0, 0, 0, 0, 0, 0, 0, 0,\n",
              "       1, 0, 0, 0, 1, 0, 0, 0, 0, 0, 0, 1, 1, 0, 1, 0, 0, 1, 1, 0, 0, 0,\n",
              "       1, 1, 1, 0, 1, 0, 0, 1, 0, 0, 0, 1, 1, 0, 1, 0, 0, 1, 0, 1, 1, 1,\n",
              "       0, 1, 0, 0, 1, 0, 0, 0, 0, 1, 1, 0, 0, 1, 1, 1, 0, 1, 1, 0, 1, 0,\n",
              "       0, 0, 1, 0, 0, 0, 0, 1, 1, 1, 1, 0, 0, 1, 1, 1, 0, 0, 0, 1, 0, 1,\n",
              "       0, 0, 0, 1, 1, 1, 1, 1, 1, 1, 0, 1, 1, 0, 0, 0, 0, 1, 1, 0, 1, 0,\n",
              "       0, 1, 1, 0, 0, 0, 0, 0, 1, 0, 1, 0, 1, 1, 0, 1, 0, 0, 0, 1, 0, 1,\n",
              "       1, 0, 0, 1, 0, 0, 1, 0, 0, 1, 0, 1, 1, 1, 0, 1, 0, 1, 1, 0, 0, 0,\n",
              "       1, 0, 1, 1, 0, 0, 0, 1, 0, 0, 0, 0, 1, 1, 0, 1, 0, 0, 0, 0, 0, 0,\n",
              "       0, 1, 0, 0, 1, 0, 1, 1, 0, 1, 0, 1, 1, 1, 1, 0, 0, 0, 1, 1, 0, 0,\n",
              "       1, 0, 0, 0, 0, 1, 1, 0, 0, 0, 0], dtype=int32)>"
            ]
          },
          "metadata": {
            "tags": []
          },
          "execution_count": 21
        }
      ]
    },
    {
      "cell_type": "code",
      "metadata": {
        "id": "PWvXwNr_BxRg"
      },
      "source": [
        "results = pd.DataFrame(predictions)\n",
        "results.columns =['predictions']"
      ],
      "execution_count": null,
      "outputs": []
    },
    {
      "cell_type": "code",
      "metadata": {
        "id": "1gixGvT1CEL6"
      },
      "source": [
        "from google.colab import files\n",
        "results.to_csv('Predictions_DL_Assignment01_Ronquillo.csv')"
      ],
      "execution_count": null,
      "outputs": []
    },
    {
      "cell_type": "code",
      "metadata": {
        "id": "O8ksbHGo3ttR",
        "outputId": "1710d4e0-4d77-4c65-8e97-9459678c7243",
        "colab": {
          "base_uri": "https://localhost:8080/"
        }
      },
      "source": [
        "print(results)"
      ],
      "execution_count": null,
      "outputs": [
        {
          "output_type": "stream",
          "text": [
            "     predictions\n",
            "0              1\n",
            "1              1\n",
            "2              0\n",
            "3              0\n",
            "4              0\n",
            "..           ...\n",
            "270            1\n",
            "271            0\n",
            "272            0\n",
            "273            0\n",
            "274            0\n",
            "\n",
            "[275 rows x 1 columns]\n"
          ],
          "name": "stdout"
        }
      ]
    }
  ]
}
